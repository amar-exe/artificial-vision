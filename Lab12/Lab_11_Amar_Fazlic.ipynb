{
  "nbformat": 4,
  "nbformat_minor": 0,
  "metadata": {
    "colab": {
      "name": "Lab_11-Amar_Fazlic.ipynb",
      "provenance": [],
      "collapsed_sections": [],
      "toc_visible": true
    },
    "kernelspec": {
      "name": "python3",
      "display_name": "Python 3"
    },
    "accelerator": "GPU"
  },
  "cells": [
    {
      "cell_type": "markdown",
      "metadata": {
        "id": "bOnTvVtqHwmn"
      },
      "source": [
        "#IMPORT LIBRARIES"
      ]
    },
    {
      "cell_type": "code",
      "metadata": {
        "id": "Ix79FGeKRa_9"
      },
      "source": [
        "%tensorflow_version 2.x"
      ],
      "execution_count": 1,
      "outputs": []
    },
    {
      "cell_type": "code",
      "metadata": {
        "id": "CNL09qOLH6Uj"
      },
      "source": [
        "# Import tensorflow\n",
        "import tensorflow as tf\n",
        "\n",
        "# From Keras, import the functions that allow you to work with layers and models\n",
        "from tensorflow.keras import layers, models\n",
        "\n",
        "# From Keras, import the MNIST dataset\n",
        "from keras.datasets import mnist\n",
        "\n",
        "# From Keras.utils, import a function that allows you to converts a \n",
        "# class vector (integers) to binary class matrix.\n",
        "from tensorflow.keras.utils import to_categorical\n",
        "# From sklearn, import the functions that allow you to work with the \n",
        "# SVM, Random Forest and Gaussian Naïve Bayes\n",
        "from sklearn import svm\n",
        "from sklearn.naive_bayes import GaussianNB\n",
        "from sklearn.ensemble import RandomForestClassifier\n",
        "\n",
        "# From sklearn, import the functions that allow you to compute the\n",
        "#confussion matrix and the accuracy score\n",
        "from sklearn.metrics import confusion_matrix\n",
        "from sklearn.metrics import accuracy_score\n",
        "\n",
        "# From sklearn, import the functions that allow you to split arrays \n",
        "# or matrices into random train and test subsets.\n",
        "from sklearn.model_selection import train_test_split\n",
        "\n",
        "import numpy as np\n",
        "import matplotlib.pyplot as plt"
      ],
      "execution_count": 2,
      "outputs": []
    },
    {
      "cell_type": "markdown",
      "metadata": {
        "id": "UYoEWxB8H_dz"
      },
      "source": [
        "#LOAD THE DATA"
      ]
    },
    {
      "cell_type": "code",
      "metadata": {
        "id": "C3rFC0HQIE-m",
        "colab": {
          "base_uri": "https://localhost:8080/"
        },
        "outputId": "3d3cd18e-51b5-4cf7-e3bc-1a1058b86f12"
      },
      "source": [
        "# Load the MNIST dataset\n",
        "_, (images, labels) = mnist.load_data()"
      ],
      "execution_count": 3,
      "outputs": [
        {
          "output_type": "stream",
          "name": "stdout",
          "text": [
            "Downloading data from https://storage.googleapis.com/tensorflow/tf-keras-datasets/mnist.npz\n",
            "11493376/11490434 [==============================] - 0s 0us/step\n",
            "11501568/11490434 [==============================] - 0s 0us/step\n"
          ]
        }
      ]
    },
    {
      "cell_type": "markdown",
      "metadata": {
        "id": "Dojvk5pOIJOC"
      },
      "source": [
        "### Displaying some images"
      ]
    },
    {
      "cell_type": "code",
      "metadata": {
        "id": "nCOR9EEdJJrR",
        "outputId": "c31d07c0-7f97-4147-a39a-551bde284145",
        "colab": {
          "base_uri": "https://localhost:8080/",
          "height": 120
        }
      },
      "source": [
        "images_and_labels = list(zip(images[:4], labels[:4]))\n",
        "for index, (image, label) in enumerate(images_and_labels):\n",
        "    plt.subplot(1, 4, index + 1)\n",
        "    plt.axis('off')\n",
        "    plt.imshow(image, cmap=plt.cm.gray_r, interpolation='nearest')\n",
        "    plt.title('Training: %i' % label)"
      ],
      "execution_count": 4,
      "outputs": [
        {
          "output_type": "display_data",
          "data": {
            "text/plain": [
              "<Figure size 432x288 with 4 Axes>"
            ],
            "image/png": "[encoded data removed]"
          },
          "metadata": {
            "needs_background": "light"
          }
        }
      ]
    },
    {
      "cell_type": "markdown",
      "metadata": {
        "id": "qPmWMqqPISoH"
      },
      "source": [
        "### Split the dataset in training and test sets"
      ]
    },
    {
      "cell_type": "code",
      "metadata": {
        "id": "7vIJVjGgJNT_"
      },
      "source": [
        "# Split the dataset into training and test set, using 30% as test set\n",
        "train_images, test_images, train_labels, test_labels = train_test_split(\n",
        "        images, labels, test_size=0.3, shuffle=True)"
      ],
      "execution_count": 5,
      "outputs": []
    },
    {
      "cell_type": "markdown",
      "metadata": {
        "id": "K0uzAAc5IWcR"
      },
      "source": [
        "### To apply classifiers on this data, we need to flatten the image, to turn the data into a (samples, feature) matrix:"
      ]
    },
    {
      "cell_type": "code",
      "metadata": {
        "id": "B4ga7BmEJTaQ"
      },
      "source": [
        "# How many images do you have in the training set?\n",
        "n_train_samples = len(train_images)\n",
        "train_data = train_images.reshape((n_train_samples, -1))\n",
        "train_data = train_data.astype('float32') / 255\n",
        "\n",
        "# How many images do you have in the test set?\n",
        "n_test_samples = len(test_images)\n",
        "test_data = test_images.reshape((n_test_samples, -1))\n",
        "testdata = test_data.astype('float32') / 255"
      ],
      "execution_count": 6,
      "outputs": []
    },
    {
      "cell_type": "markdown",
      "metadata": {
        "id": "0Zuzi4_6Ic_V"
      },
      "source": [
        "# **CLASSIFYING USING SVM**"
      ]
    },
    {
      "cell_type": "code",
      "metadata": {
        "id": "T8U622uOJfnq",
        "outputId": "0c04c36c-5493-4f00-a410-2195141a58d5",
        "colab": {
          "base_uri": "https://localhost:8080/"
        }
      },
      "source": [
        "print('\\n\\n***********************************************************')\n",
        "print('***********************************************************')\n",
        "print('**** CLASSIFICATION USING SUPPORT VECTOR MACHINE (SVM) ****')\n",
        "print('***********************************************************')\n",
        "print('***********************************************************\\n\\n')"
      ],
      "execution_count": 7,
      "outputs": [
        {
          "output_type": "stream",
          "name": "stdout",
          "text": [
            "\n",
            "\n",
            "***********************************************************\n",
            "***********************************************************\n",
            "**** CLASSIFICATION USING SUPPORT VECTOR MACHINE (SVM) ****\n",
            "***********************************************************\n",
            "***********************************************************\n",
            "\n",
            "\n"
          ]
        }
      ]
    },
    {
      "cell_type": "markdown",
      "metadata": {
        "id": "yKeyfFMIIgCo"
      },
      "source": [
        "### Creating SVM instance"
      ]
    },
    {
      "cell_type": "code",
      "metadata": {
        "id": "xCuUYin0JV2g"
      },
      "source": [
        "SVM_model = svm.SVC(C=1, kernel = 'linear')"
      ],
      "execution_count": 8,
      "outputs": []
    },
    {
      "cell_type": "markdown",
      "metadata": {
        "id": "yOKtIUFSIio8"
      },
      "source": [
        "### Fit the SVM model according to the training data"
      ]
    },
    {
      "cell_type": "code",
      "metadata": {
        "id": "63fqwmxyJYOw",
        "outputId": "69f249f1-7df9-4d00-c194-333e891dabfa",
        "colab": {
          "base_uri": "https://localhost:8080/"
        }
      },
      "source": [
        "SVM_model.fit(train_data,train_labels)"
      ],
      "execution_count": 9,
      "outputs": [
        {
          "output_type": "execute_result",
          "data": {
            "text/plain": [
              "SVC(C=1, kernel='linear')"
            ]
          },
          "metadata": {},
          "execution_count": 9
        }
      ]
    },
    {
      "cell_type": "markdown",
      "metadata": {
        "id": "EDNMC-5fInCY"
      },
      "source": [
        "### Classify the test data"
      ]
    },
    {
      "cell_type": "code",
      "metadata": {
        "id": "0PgToqGKJY_9"
      },
      "source": [
        "predicted_classes_SVM = SVM_model.predict(testdata)"
      ],
      "execution_count": 10,
      "outputs": []
    },
    {
      "cell_type": "markdown",
      "metadata": {
        "id": "QmAa5lUxI-0L"
      },
      "source": [
        "### Print the preformance metrics (i.e. accuracy and Confusion Matrix)"
      ]
    },
    {
      "cell_type": "code",
      "metadata": {
        "id": "1UC5CUhYJa5o",
        "outputId": "7857e591-cee1-4009-888d-a5df76dcbab1",
        "colab": {
          "base_uri": "https://localhost:8080/"
        }
      },
      "source": [
        "accuracy_SVM = accuracy_score(test_labels, predicted_classes_SVM ) # accuracy\n",
        "print()\n",
        "print('Accuracy (Support Vector Machine)= {}\\n'.format(accuracy_SVM))\n",
        "cm_SVM = confusion_matrix(test_labels,predicted_classes_SVM ) # Confusion matrix\n",
        "print('Confusion Matrix with SVM: ')\n",
        "print(cm_SVM)\n",
        "print('***********************************************************')\n",
        "print('***********************************************************')\n",
        "print('\\n\\n')"
      ],
      "execution_count": 11,
      "outputs": [
        {
          "output_type": "stream",
          "name": "stdout",
          "text": [
            "\n",
            "Accuracy (Support Vector Machine)= 0.9223333333333333\n",
            "\n",
            "Confusion Matrix with SVM: \n",
            "[[297   0   0   1   0   1   1   0   0   0]\n",
            " [  0 353   2   0   0   2   0   0   2   0]\n",
            " [  2   1 269   2   4   1   1   6   6   2]\n",
            " [  0   3   6 268   1   3   0   1   6   3]\n",
            " [  0   0   3   0 248   0   0   2   0   9]\n",
            " [  5   4   0   9   1 221   5   1   7   4]\n",
            " [  2   1   5   0   3   1 276   0   2   0]\n",
            " [  1   5   5   2   4   0   0 302   0   7]\n",
            " [  1   4   6  13   0  13   2   4 271   2]\n",
            " [  2   3   2   2  15   4   0  14   1 262]]\n",
            "***********************************************************\n",
            "***********************************************************\n",
            "\n",
            "\n",
            "\n"
          ]
        }
      ]
    },
    {
      "cell_type": "markdown",
      "metadata": {
        "id": "mHcEkGatKrol"
      },
      "source": [
        "# **CLASSIFY USING GAUSSIAN NAIVE BAYES**"
      ]
    },
    {
      "cell_type": "code",
      "metadata": {
        "id": "9uCdVf9sMV7h",
        "outputId": "bdcb64e4-f180-4299-f8d5-3b06f0635766",
        "colab": {
          "base_uri": "https://localhost:8080/"
        }
      },
      "source": [
        "print('\\n\\n***********************************************************')\n",
        "print('***********************************************************')\n",
        "print('******** CLASSIFICATION USING GAUSSIAN NAIVE BAYES ********')\n",
        "print('***********************************************************')\n",
        "print('***********************************************************\\n\\n')"
      ],
      "execution_count": 12,
      "outputs": [
        {
          "output_type": "stream",
          "name": "stdout",
          "text": [
            "\n",
            "\n",
            "***********************************************************\n",
            "***********************************************************\n",
            "******** CLASSIFICATION USING GAUSSIAN NAIVE BAYES ********\n",
            "***********************************************************\n",
            "***********************************************************\n",
            "\n",
            "\n"
          ]
        }
      ]
    },
    {
      "cell_type": "markdown",
      "metadata": {
        "id": "w2wBlpi5KwSX"
      },
      "source": [
        "### Creating the Gaussian Naive Bayes instance"
      ]
    },
    {
      "cell_type": "code",
      "metadata": {
        "id": "tZqGba65MZCK"
      },
      "source": [
        "NB_model = GaussianNB()"
      ],
      "execution_count": 13,
      "outputs": []
    },
    {
      "cell_type": "markdown",
      "metadata": {
        "id": "bZXoLIYMK0gM"
      },
      "source": [
        "### Fit the Naive Bayes classifier according to the training data"
      ]
    },
    {
      "cell_type": "code",
      "metadata": {
        "id": "nYL-0zF8MfZF",
        "outputId": "d367bc22-c959-453b-f328-3aad643afa66",
        "colab": {
          "base_uri": "https://localhost:8080/"
        }
      },
      "source": [
        "NB_model.fit(train_data, train_labels )"
      ],
      "execution_count": 14,
      "outputs": [
        {
          "output_type": "execute_result",
          "data": {
            "text/plain": [
              "GaussianNB()"
            ]
          },
          "metadata": {},
          "execution_count": 14
        }
      ]
    },
    {
      "cell_type": "markdown",
      "metadata": {
        "id": "u_s2DD-zK3Js"
      },
      "source": [
        "### Classify the test data"
      ]
    },
    {
      "cell_type": "code",
      "metadata": {
        "id": "AFpjRktKMl82"
      },
      "source": [
        "predicted_classes_NB = NB_model.predict(testdata)"
      ],
      "execution_count": 15,
      "outputs": []
    },
    {
      "cell_type": "markdown",
      "metadata": {
        "id": "SXuFiLS2K56I"
      },
      "source": [
        "### Print the preformance metrics (i.e. accuracy and Confusion Matrix)"
      ]
    },
    {
      "cell_type": "code",
      "metadata": {
        "id": "Gnfk6nptMxOq",
        "outputId": "e35b400c-73f5-4783-90b4-37493e981e52",
        "colab": {
          "base_uri": "https://localhost:8080/"
        }
      },
      "source": [
        "accuracy_NB =  accuracy_score(test_labels, predicted_classes_SVM ) # accuracy\n",
        "print()\n",
        "print('Accuracy (Gaussian Naive Bayes)= {}\\n'.format(accuracy_NB))\n",
        "cm_NB =  confusion_matrix(test_labels, predicted_classes_SVM ) # Confusion matrix\n",
        "print('Confusion Matrix with Gaussian Naive Bayes: ')\n",
        "print(cm_NB)\n",
        "print('***********************************************************')\n",
        "print('***********************************************************')\n",
        "print('\\n\\n')"
      ],
      "execution_count": 16,
      "outputs": [
        {
          "output_type": "stream",
          "name": "stdout",
          "text": [
            "\n",
            "Accuracy (Gaussian Naive Bayes)= 0.9223333333333333\n",
            "\n",
            "Confusion Matrix with Gaussian Naive Bayes: \n",
            "[[297   0   0   1   0   1   1   0   0   0]\n",
            " [  0 353   2   0   0   2   0   0   2   0]\n",
            " [  2   1 269   2   4   1   1   6   6   2]\n",
            " [  0   3   6 268   1   3   0   1   6   3]\n",
            " [  0   0   3   0 248   0   0   2   0   9]\n",
            " [  5   4   0   9   1 221   5   1   7   4]\n",
            " [  2   1   5   0   3   1 276   0   2   0]\n",
            " [  1   5   5   2   4   0   0 302   0   7]\n",
            " [  1   4   6  13   0  13   2   4 271   2]\n",
            " [  2   3   2   2  15   4   0  14   1 262]]\n",
            "***********************************************************\n",
            "***********************************************************\n",
            "\n",
            "\n",
            "\n"
          ]
        }
      ]
    },
    {
      "cell_type": "markdown",
      "metadata": {
        "id": "V1HkmjkKK8R1"
      },
      "source": [
        "# **CLASSIFY USING A RANDOM FOREST**"
      ]
    },
    {
      "cell_type": "code",
      "metadata": {
        "id": "0Y4SzrYlM7PZ",
        "outputId": "3b5c470b-d8a5-48f7-ad59-0f13ddd78f36",
        "colab": {
          "base_uri": "https://localhost:8080/"
        }
      },
      "source": [
        "print('\\n\\n************************************************************')\n",
        "print('************************************************************')\n",
        "print('************ CLASSIFICATION USING RANDOM FOREST ************')\n",
        "print('************************************************************')\n",
        "print('************************************************************\\n\\n')"
      ],
      "execution_count": 17,
      "outputs": [
        {
          "output_type": "stream",
          "name": "stdout",
          "text": [
            "\n",
            "\n",
            "************************************************************\n",
            "************************************************************\n",
            "************ CLASSIFICATION USING RANDOM FOREST ************\n",
            "************************************************************\n",
            "************************************************************\n",
            "\n",
            "\n"
          ]
        }
      ]
    },
    {
      "cell_type": "markdown",
      "metadata": {
        "id": "mfrbU89qK_XP"
      },
      "source": [
        "### Creating the Random Forest instance"
      ]
    },
    {
      "cell_type": "code",
      "metadata": {
        "id": "QgUCw57_M7_6"
      },
      "source": [
        "RndForest_model = RandomForestClassifier(n_estimators=100,max_depth=6)"
      ],
      "execution_count": 18,
      "outputs": []
    },
    {
      "cell_type": "markdown",
      "metadata": {
        "id": "x_Rj4b-gLCEB"
      },
      "source": [
        "### Fit the Random Forest model according to the training data"
      ]
    },
    {
      "cell_type": "code",
      "metadata": {
        "id": "zqSObyQwNDMS",
        "outputId": "69484171-6ec3-47ed-ce25-9bb5a6ed9029",
        "colab": {
          "base_uri": "https://localhost:8080/"
        }
      },
      "source": [
        "from sklearn.utils.multiclass import type_of_target\n",
        "RndForest_model.fit(train_data, train_labels)"
      ],
      "execution_count": 19,
      "outputs": [
        {
          "output_type": "execute_result",
          "data": {
            "text/plain": [
              "RandomForestClassifier(max_depth=6)"
            ]
          },
          "metadata": {},
          "execution_count": 19
        }
      ]
    },
    {
      "cell_type": "markdown",
      "metadata": {
        "id": "oYuqKwa1LEik"
      },
      "source": [
        "### Classify the test data"
      ]
    },
    {
      "cell_type": "code",
      "metadata": {
        "id": "lHh3UkbvNFYw"
      },
      "source": [
        "predicted_classes_RF = RndForest_model.predict(testdata)"
      ],
      "execution_count": 20,
      "outputs": []
    },
    {
      "cell_type": "markdown",
      "metadata": {
        "id": "0OJo-X5CLGnS"
      },
      "source": [
        "### Print the preformance metrics (i.e. accuracy and Confusion Matrix)"
      ]
    },
    {
      "cell_type": "code",
      "metadata": {
        "id": "F9E0Zcp6NLny",
        "outputId": "dcb293c1-d20c-4659-9a2a-0882d7a73ed4",
        "colab": {
          "base_uri": "https://localhost:8080/"
        }
      },
      "source": [
        "accuracy_RF = accuracy_score(test_labels, predicted_classes_SVM ) # Accuracy\n",
        "print()\n",
        "print('Accuracy (Random Forest)= {}\\n'.format(accuracy_RF))\n",
        "cm_RF = confusion_matrix(test_labels, predicted_classes_SVM ) # Confusion matrix\n",
        "print('Confusion Matrix with Random Forest: ')\n",
        "print(cm_RF)\n",
        "print('***********************************************************')\n",
        "print('***********************************************************')\n",
        "print('\\n\\n')"
      ],
      "execution_count": 21,
      "outputs": [
        {
          "output_type": "stream",
          "name": "stdout",
          "text": [
            "\n",
            "Accuracy (Random Forest)= 0.9223333333333333\n",
            "\n",
            "Confusion Matrix with Random Forest: \n",
            "[[297   0   0   1   0   1   1   0   0   0]\n",
            " [  0 353   2   0   0   2   0   0   2   0]\n",
            " [  2   1 269   2   4   1   1   6   6   2]\n",
            " [  0   3   6 268   1   3   0   1   6   3]\n",
            " [  0   0   3   0 248   0   0   2   0   9]\n",
            " [  5   4   0   9   1 221   5   1   7   4]\n",
            " [  2   1   5   0   3   1 276   0   2   0]\n",
            " [  1   5   5   2   4   0   0 302   0   7]\n",
            " [  1   4   6  13   0  13   2   4 271   2]\n",
            " [  2   3   2   2  15   4   0  14   1 262]]\n",
            "***********************************************************\n",
            "***********************************************************\n",
            "\n",
            "\n",
            "\n"
          ]
        }
      ]
    },
    {
      "cell_type": "markdown",
      "metadata": {
        "id": "Wg4e3ZSTLJbG"
      },
      "source": [
        "# **CLASSIFY USING A SHALLOW NEURAL NETWORK**"
      ]
    },
    {
      "cell_type": "code",
      "metadata": {
        "id": "TIG8SbTeNQ8p",
        "outputId": "cdf84b4d-4bf4-4413-871b-f8c3e443a0ea",
        "colab": {
          "base_uri": "https://localhost:8080/"
        }
      },
      "source": [
        "print('\\n\\n***********************************************************')\n",
        "print('***********************************************************')\n",
        "print('****** CLASSIFICATION USING A SHALLOW NEURAL NETWORK ******')\n",
        "print('***********************************************************')\n",
        "print('***********************************************************\\n\\n')"
      ],
      "execution_count": 22,
      "outputs": [
        {
          "output_type": "stream",
          "name": "stdout",
          "text": [
            "\n",
            "\n",
            "***********************************************************\n",
            "***********************************************************\n",
            "****** CLASSIFICATION USING A SHALLOW NEURAL NETWORK ******\n",
            "***********************************************************\n",
            "***********************************************************\n",
            "\n",
            "\n"
          ]
        }
      ]
    },
    {
      "cell_type": "markdown",
      "metadata": {
        "id": "r4Ryif7RLLy-"
      },
      "source": [
        "### Defining network architecture"
      ]
    },
    {
      "cell_type": "code",
      "metadata": {
        "id": "ZO3druhANTNL"
      },
      "source": [
        "NN_model = models.Sequential()\n",
        "NN_model.add(layers.Dense(64,activation = 'relu' , input_shape=(np.prod(train_data.shape[1:3]),)))\n",
        "NN_model.add(layers.Dense(10,activation = 'softmax' ))"
      ],
      "execution_count": 23,
      "outputs": []
    },
    {
      "cell_type": "markdown",
      "metadata": {
        "id": "jaDXvvw7LOPF"
      },
      "source": [
        "### Showing network architecture "
      ]
    },
    {
      "cell_type": "code",
      "metadata": {
        "id": "GaBrqbJLNV2n",
        "outputId": "03517fa9-0999-4ba7-8d99-27800c9737a0",
        "colab": {
          "base_uri": "https://localhost:8080/"
        }
      },
      "source": [
        "print('\\n\\n**********************************')\n",
        "print('****** NETWORK ARCHITECTURE ******')\n",
        "print('**********************************\\n')\n",
        "NN_model.summary()"
      ],
      "execution_count": 24,
      "outputs": [
        {
          "output_type": "stream",
          "name": "stdout",
          "text": [
            "\n",
            "\n",
            "**********************************\n",
            "****** NETWORK ARCHITECTURE ******\n",
            "**********************************\n",
            "\n",
            "Model: \"sequential\"\n",
            "_________________________________________________________________\n",
            " Layer (type)                Output Shape              Param #   \n",
            "=================================================================\n",
            " dense (Dense)               (None, 64)                50240     \n",
            "                                                                 \n",
            " dense_1 (Dense)             (None, 10)                650       \n",
            "                                                                 \n",
            "=================================================================\n",
            "Total params: 50,890\n",
            "Trainable params: 50,890\n",
            "Non-trainable params: 0\n",
            "_________________________________________________________________\n"
          ]
        }
      ]
    },
    {
      "cell_type": "markdown",
      "metadata": {
        "id": "b_xZBSnoLSEI"
      },
      "source": [
        "### Compilation of the network"
      ]
    },
    {
      "cell_type": "code",
      "metadata": {
        "id": "UlkG16g7NYSA"
      },
      "source": [
        "NN_model.compile(optimizer='adam', metrics=['accuracy'], loss='binary_crossentropy')"
      ],
      "execution_count": 29,
      "outputs": []
    },
    {
      "cell_type": "markdown",
      "metadata": {
        "id": "MN4Aw35dLUMA"
      },
      "source": [
        "### Preparing the labels"
      ]
    },
    {
      "cell_type": "code",
      "metadata": {
        "id": "G0y6k6lMNZy2"
      },
      "source": [
        "# Convert to categorical the training and test labels\n",
        "train_labels_categorical = to_categorical(train_labels)\n",
        "test_labels_categorical = to_categorical(test_labels)"
      ],
      "execution_count": 30,
      "outputs": []
    },
    {
      "cell_type": "markdown",
      "metadata": {
        "id": "njU5H-B6LWAN"
      },
      "source": [
        "### Train the network"
      ]
    },
    {
      "cell_type": "code",
      "metadata": {
        "id": "wQP_7SK_NbwB",
        "outputId": "936f549d-44dd-4088-d4cc-8ce2a365e3f1",
        "colab": {
          "base_uri": "https://localhost:8080/"
        }
      },
      "source": [
        "NN_model.fit(train_data, train_labels_categorical, epochs = 10)"
      ],
      "execution_count": 31,
      "outputs": [
        {
          "output_type": "stream",
          "name": "stdout",
          "text": [
            "Epoch 1/10\n",
            "219/219 [==============================] - 2s 3ms/step - loss: 0.1825 - accuracy: 0.7427\n",
            "Epoch 2/10\n",
            "219/219 [==============================] - 1s 3ms/step - loss: 0.0813 - accuracy: 0.8969\n",
            "Epoch 3/10\n",
            "219/219 [==============================] - 1s 2ms/step - loss: 0.0620 - accuracy: 0.9193\n",
            "Epoch 4/10\n",
            "219/219 [==============================] - 1s 3ms/step - loss: 0.0513 - accuracy: 0.9309\n",
            "Epoch 5/10\n",
            "219/219 [==============================] - 1s 3ms/step - loss: 0.0441 - accuracy: 0.9417\n",
            "Epoch 6/10\n",
            "219/219 [==============================] - 1s 3ms/step - loss: 0.0385 - accuracy: 0.9496\n",
            "Epoch 7/10\n",
            "219/219 [==============================] - 1s 3ms/step - loss: 0.0339 - accuracy: 0.9571\n",
            "Epoch 8/10\n",
            "219/219 [==============================] - 1s 2ms/step - loss: 0.0301 - accuracy: 0.9626\n",
            "Epoch 9/10\n",
            "219/219 [==============================] - 1s 3ms/step - loss: 0.0270 - accuracy: 0.9673\n",
            "Epoch 10/10\n",
            "219/219 [==============================] - 1s 3ms/step - loss: 0.0244 - accuracy: 0.9719\n"
          ]
        },
        {
          "output_type": "execute_result",
          "data": {
            "text/plain": [
              "<keras.callbacks.History at 0x7f94f021ff90>"
            ]
          },
          "metadata": {},
          "execution_count": 31
        }
      ]
    },
    {
      "cell_type": "markdown",
      "metadata": {
        "id": "EWZQEoCWLX_e"
      },
      "source": [
        "### Classify the test images"
      ]
    },
    {
      "cell_type": "code",
      "metadata": {
        "id": "VMqSCDzZNfZT"
      },
      "source": [
        "predicted_classes_categorical_NN = NN_model.predict(testdata)"
      ],
      "execution_count": 32,
      "outputs": []
    },
    {
      "cell_type": "markdown",
      "metadata": {
        "id": "AkNFwKpsLaSy"
      },
      "source": [
        "### Get classes in integer format"
      ]
    },
    {
      "cell_type": "code",
      "metadata": {
        "id": "fieb1oJuNh-h"
      },
      "source": [
        "predicted_classes_NN = np.argmax(predicted_classes_categorical_NN, axis=1)"
      ],
      "execution_count": 33,
      "outputs": []
    },
    {
      "cell_type": "markdown",
      "metadata": {
        "id": "uPwDtm_ULcRB"
      },
      "source": [
        "### Print the preformance metrics (i.e. accuracy and Confusion Matrix)"
      ]
    },
    {
      "cell_type": "code",
      "metadata": {
        "id": "w3abLukJNlW7",
        "outputId": "9d587a00-3cbf-48d4-a50a-e4e7207b3a9a",
        "colab": {
          "base_uri": "https://localhost:8080/"
        }
      },
      "source": [
        "accuracy_NN = accuracy_score(test_labels, predicted_classes_SVM ) # accuracy\n",
        "print()\n",
        "print('Accuracy (Shallow Neural Network)= {}\\n'.format(accuracy_NN))\n",
        "cm_NN = confusion_matrix(test_labels, predicted_classes_SVM ) # Confusion matrix\n",
        "print('Confusion Matrix with Shallow Neural Network: ')\n",
        "print(cm_NN)\n",
        "print('***********************************************************')\n",
        "print('***********************************************************')\n",
        "print('\\n\\n')"
      ],
      "execution_count": 34,
      "outputs": [
        {
          "output_type": "stream",
          "name": "stdout",
          "text": [
            "\n",
            "Accuracy (Shallow Neural Network)= 0.9223333333333333\n",
            "\n",
            "Confusion Matrix with Shallow Neural Network: \n",
            "[[297   0   0   1   0   1   1   0   0   0]\n",
            " [  0 353   2   0   0   2   0   0   2   0]\n",
            " [  2   1 269   2   4   1   1   6   6   2]\n",
            " [  0   3   6 268   1   3   0   1   6   3]\n",
            " [  0   0   3   0 248   0   0   2   0   9]\n",
            " [  5   4   0   9   1 221   5   1   7   4]\n",
            " [  2   1   5   0   3   1 276   0   2   0]\n",
            " [  1   5   5   2   4   0   0 302   0   7]\n",
            " [  1   4   6  13   0  13   2   4 271   2]\n",
            " [  2   3   2   2  15   4   0  14   1 262]]\n",
            "***********************************************************\n",
            "***********************************************************\n",
            "\n",
            "\n",
            "\n"
          ]
        }
      ]
    },
    {
      "cell_type": "markdown",
      "metadata": {
        "id": "CEykUDBsLm5T"
      },
      "source": [
        "# **CLASSIFY USING A SMALL CONVOLUTIONAL NEURAL NETWORK**"
      ]
    },
    {
      "cell_type": "code",
      "metadata": {
        "id": "73-nM2G-NrYm",
        "outputId": "d55c0e19-c13b-40bf-9159-d40bce988b38",
        "colab": {
          "base_uri": "https://localhost:8080/"
        }
      },
      "source": [
        "print('\\n\\n***********************************************************')\n",
        "print('***********************************************************')\n",
        "print('*** CLASSIFICATION USING A CONVOLUTIONAL NEURAL NETWORK ***')\n",
        "print('***********************************************************')\n",
        "print('***********************************************************\\n\\n')"
      ],
      "execution_count": 35,
      "outputs": [
        {
          "output_type": "stream",
          "name": "stdout",
          "text": [
            "\n",
            "\n",
            "***********************************************************\n",
            "***********************************************************\n",
            "*** CLASSIFICATION USING A CONVOLUTIONAL NEURAL NETWORK ***\n",
            "***********************************************************\n",
            "***********************************************************\n",
            "\n",
            "\n"
          ]
        }
      ]
    },
    {
      "cell_type": "markdown",
      "metadata": {
        "id": "9TxiUEnsLyuS"
      },
      "source": [
        "### Preparing image data"
      ]
    },
    {
      "cell_type": "code",
      "metadata": {
        "id": "m-wsDVm9N4CY"
      },
      "source": [
        "train_images_for_CNN = train_images.reshape(train_images.shape + (1,))\n",
        "train_images_for_CNN = train_images_for_CNN.astype('float32') / 255\n",
        "\n",
        "test_images_for_CNN = test_images.reshape(test_images.shape + (1,))\n",
        "test_images_for_CNN = test_images_for_CNN.astype('float32') / 255"
      ],
      "execution_count": 36,
      "outputs": []
    },
    {
      "cell_type": "markdown",
      "metadata": {
        "id": "EFoJIy-nL3sE"
      },
      "source": [
        "### Preparing the labels"
      ]
    },
    {
      "cell_type": "code",
      "metadata": {
        "id": "cKE8BjaiN_UV"
      },
      "source": [
        "train_labels_categorical = to_categorical(train_labels)\n",
        "test_labels_categorical = to_categorical(test_labels)"
      ],
      "execution_count": 37,
      "outputs": []
    },
    {
      "cell_type": "markdown",
      "metadata": {
        "id": "KnLAXQSMLofy"
      },
      "source": [
        "### Starting the convnet architecture"
      ]
    },
    {
      "cell_type": "code",
      "metadata": {
        "id": "kC-AILR0NsR5"
      },
      "source": [
        "CNN_model = models.Sequential()\n",
        "# Include a 2D Convolutional layer with 32 filters with RELU activation function\n",
        "CNN_model.add(layers.Conv2D(32, (3, 3), activation='relu',\n",
        "                            input_shape=(28, 28, 1)))\n",
        "# Include a 2D Max Pooling Layer\n",
        "CNN_model.add(layers.MaxPool2D((2, 2)))\n",
        "\n",
        "# Include a 2D Convolutional layer with 64 filters\n",
        "CNN_model.add(layers.Conv2D(64, (3, 3), activation='relu'))\n",
        "\n",
        "# Include a 2D Max Pooling Layer\n",
        "CNN_model.add(layers.MaxPool2D((2, 2)))\n",
        "\n",
        "# Include a 2D Convolutional layer with 64 filters\n",
        "CNN_model.add(layers.Conv2D(64, (3, 3), activation='relu'))"
      ],
      "execution_count": 38,
      "outputs": []
    },
    {
      "cell_type": "markdown",
      "metadata": {
        "id": "zf_4JjtjLqrA"
      },
      "source": [
        "### Display the architecture of the convnet so far"
      ]
    },
    {
      "cell_type": "code",
      "metadata": {
        "id": "BOPYhHJoNu1O",
        "outputId": "be08ad11-e5af-4e30-f691-64844076690b",
        "colab": {
          "base_uri": "https://localhost:8080/"
        }
      },
      "source": [
        "print('********************************************')\n",
        "print('**** ARCHITECTURE OF THE CONVNET SO FAR ****')\n",
        "print('********************************************\\n')\n",
        "CNN_model.summary()"
      ],
      "execution_count": 39,
      "outputs": [
        {
          "output_type": "stream",
          "name": "stdout",
          "text": [
            "********************************************\n",
            "**** ARCHITECTURE OF THE CONVNET SO FAR ****\n",
            "********************************************\n",
            "\n",
            "Model: \"sequential_1\"\n",
            "_________________________________________________________________\n",
            " Layer (type)                Output Shape              Param #   \n",
            "=================================================================\n",
            " conv2d (Conv2D)             (None, 26, 26, 32)        320       \n",
            "                                                                 \n",
            " max_pooling2d (MaxPooling2D  (None, 13, 13, 32)       0         \n",
            " )                                                               \n",
            "                                                                 \n",
            " conv2d_1 (Conv2D)           (None, 11, 11, 64)        18496     \n",
            "                                                                 \n",
            " max_pooling2d_1 (MaxPooling  (None, 5, 5, 64)         0         \n",
            " 2D)                                                             \n",
            "                                                                 \n",
            " conv2d_2 (Conv2D)           (None, 3, 3, 64)          36928     \n",
            "                                                                 \n",
            "=================================================================\n",
            "Total params: 55,744\n",
            "Trainable params: 55,744\n",
            "Non-trainable params: 0\n",
            "_________________________________________________________________\n"
          ]
        }
      ]
    },
    {
      "cell_type": "markdown",
      "metadata": {
        "id": "Y98HdGdGLtz7"
      },
      "source": [
        "### Adding a classifier on top of the convnet"
      ]
    },
    {
      "cell_type": "code",
      "metadata": {
        "id": "bxbldwpXNxc7"
      },
      "source": [
        "CNN_model.add(layers.Flatten()) # Flatten layer\n",
        "CNN_model.add(layers.Dense(64,activation='relu' )) # Dense layer\n",
        "CNN_model.add(layers.Dense(10, activation='softmax' )) # Dense layer"
      ],
      "execution_count": 40,
      "outputs": []
    },
    {
      "cell_type": "markdown",
      "metadata": {
        "id": "8TwE3Sj8LwOd"
      },
      "source": [
        "### Display the architecture of the convnet so far"
      ]
    },
    {
      "cell_type": "code",
      "metadata": {
        "id": "_HYkYdbCN0Zu",
        "outputId": "2c88a532-3c16-427c-cf19-4f4cc5452e2a",
        "colab": {
          "base_uri": "https://localhost:8080/"
        }
      },
      "source": [
        "print('\\n\\n****************************************************************************')\n",
        "print('**** ARCHITECTURE OF THE CONVNET AFTER ADDING THE CLASSIFICATION LAYERS ****')\n",
        "print('****************************************************************************\\n')\n",
        "CNN_model.summary()"
      ],
      "execution_count": 41,
      "outputs": [
        {
          "output_type": "stream",
          "name": "stdout",
          "text": [
            "\n",
            "\n",
            "****************************************************************************\n",
            "**** ARCHITECTURE OF THE CONVNET AFTER ADDING THE CLASSIFICATION LAYERS ****\n",
            "****************************************************************************\n",
            "\n",
            "Model: \"sequential_1\"\n",
            "_________________________________________________________________\n",
            " Layer (type)                Output Shape              Param #   \n",
            "=================================================================\n",
            " conv2d (Conv2D)             (None, 26, 26, 32)        320       \n",
            "                                                                 \n",
            " max_pooling2d (MaxPooling2D  (None, 13, 13, 32)       0         \n",
            " )                                                               \n",
            "                                                                 \n",
            " conv2d_1 (Conv2D)           (None, 11, 11, 64)        18496     \n",
            "                                                                 \n",
            " max_pooling2d_1 (MaxPooling  (None, 5, 5, 64)         0         \n",
            " 2D)                                                             \n",
            "                                                                 \n",
            " conv2d_2 (Conv2D)           (None, 3, 3, 64)          36928     \n",
            "                                                                 \n",
            " flatten (Flatten)           (None, 576)               0         \n",
            "                                                                 \n",
            " dense_2 (Dense)             (None, 64)                36928     \n",
            "                                                                 \n",
            " dense_3 (Dense)             (None, 10)                650       \n",
            "                                                                 \n",
            "=================================================================\n",
            "Total params: 93,322\n",
            "Trainable params: 93,322\n",
            "Non-trainable params: 0\n",
            "_________________________________________________________________\n"
          ]
        }
      ]
    },
    {
      "cell_type": "markdown",
      "metadata": {
        "id": "1Js4YMDZL1Qr"
      },
      "source": [
        "### Compile the network"
      ]
    },
    {
      "cell_type": "code",
      "metadata": {
        "id": "f30lJOUYN9GH"
      },
      "source": [
        "CNN_model.compile(optimizer='RMSProp', metrics=['accuracy'], loss='mean_squared_error')"
      ],
      "execution_count": 57,
      "outputs": []
    },
    {
      "cell_type": "markdown",
      "metadata": {
        "id": "giMn_f1cL53T"
      },
      "source": [
        "### Train the network"
      ]
    },
    {
      "cell_type": "code",
      "metadata": {
        "id": "9pyrTmHLOBu_",
        "outputId": "e16f77c2-4b22-470a-e7a7-dcbfbfb57195",
        "colab": {
          "base_uri": "https://localhost:8080/"
        }
      },
      "source": [
        "# Use a batch size of 64\n",
        "history = CNN_model.fit(train_images, train_labels, epochs=10, batch_size=64)"
      ],
      "execution_count": 62,
      "outputs": [
        {
          "output_type": "stream",
          "name": "stdout",
          "text": [
            "Epoch 1/10\n",
            "110/110 [==============================] - 1s 7ms/step - loss: 27.0970 - accuracy: 0.0971\n",
            "Epoch 2/10\n",
            "110/110 [==============================] - 1s 7ms/step - loss: 27.0970 - accuracy: 0.0971\n",
            "Epoch 3/10\n",
            "110/110 [==============================] - 1s 7ms/step - loss: 27.0970 - accuracy: 0.0971\n",
            "Epoch 4/10\n",
            "110/110 [==============================] - 1s 8ms/step - loss: 27.0970 - accuracy: 0.0971\n",
            "Epoch 5/10\n",
            "110/110 [==============================] - 1s 5ms/step - loss: 27.0970 - accuracy: 0.0971\n",
            "Epoch 6/10\n",
            "110/110 [==============================] - 0s 4ms/step - loss: 27.0970 - accuracy: 0.0971\n",
            "Epoch 7/10\n",
            "110/110 [==============================] - 1s 5ms/step - loss: 27.0970 - accuracy: 0.0971\n",
            "Epoch 8/10\n",
            "110/110 [==============================] - 0s 4ms/step - loss: 27.0970 - accuracy: 0.0971\n",
            "Epoch 9/10\n",
            "110/110 [==============================] - 1s 5ms/step - loss: 27.0970 - accuracy: 0.0971\n",
            "Epoch 10/10\n",
            "110/110 [==============================] - 0s 4ms/step - loss: 27.0970 - accuracy: 0.0971\n"
          ]
        }
      ]
    },
    {
      "cell_type": "markdown",
      "metadata": {
        "id": "FEoXqoolL8p5"
      },
      "source": [
        "### Classify the test data"
      ]
    },
    {
      "cell_type": "code",
      "metadata": {
        "id": "ByCufrjkODqY"
      },
      "source": [
        "predicted_classes_categorical_CNN = CNN_model.predict(test_images)"
      ],
      "execution_count": 63,
      "outputs": []
    },
    {
      "cell_type": "markdown",
      "metadata": {
        "id": "8D8qjATeL_f1"
      },
      "source": [
        "### Get classes in integer format"
      ]
    },
    {
      "cell_type": "code",
      "metadata": {
        "id": "zMxOCaILOORd"
      },
      "source": [
        "predicted_classes_CNN = np.argmax(predicted_classes_categorical_CNN, axis=1)"
      ],
      "execution_count": 64,
      "outputs": []
    },
    {
      "cell_type": "markdown",
      "metadata": {
        "id": "aB6dKfdgMBuk"
      },
      "source": [
        "### Print the performance metrics (i.e. accuracy and Confusion Matrix)"
      ]
    },
    {
      "cell_type": "code",
      "metadata": {
        "id": "Z_qJJBGjORjt",
        "outputId": "2b9e404a-e5d9-401f-be8a-51fa281d14c2",
        "colab": {
          "base_uri": "https://localhost:8080/"
        }
      },
      "source": [
        "accuracy_CNN = accuracy_score(test_labels, predicted_classes_SVM )# Accuracy\n",
        "print()\n",
        "print('Accuracy (Convolutional Neural Network)= {}\\n'.format(accuracy_CNN))\n",
        "cm_CNN = confusion_matrix(test_labels, predicted_classes_SVM )# Confusion matrix\n",
        "print('Confusion Matrix with Convolutional Neural Network: ')\n",
        "print(cm_CNN)\n",
        "print('***********************************************************')\n",
        "print('***********************************************************')\n",
        "print('\\n\\n')"
      ],
      "execution_count": 65,
      "outputs": [
        {
          "output_type": "stream",
          "name": "stdout",
          "text": [
            "\n",
            "Accuracy (Convolutional Neural Network)= 0.9223333333333333\n",
            "\n",
            "Confusion Matrix with Convolutional Neural Network: \n",
            "[[297   0   0   1   0   1   1   0   0   0]\n",
            " [  0 353   2   0   0   2   0   0   2   0]\n",
            " [  2   1 269   2   4   1   1   6   6   2]\n",
            " [  0   3   6 268   1   3   0   1   6   3]\n",
            " [  0   0   3   0 248   0   0   2   0   9]\n",
            " [  5   4   0   9   1 221   5   1   7   4]\n",
            " [  2   1   5   0   3   1 276   0   2   0]\n",
            " [  1   5   5   2   4   0   0 302   0   7]\n",
            " [  1   4   6  13   0  13   2   4 271   2]\n",
            " [  2   3   2   2  15   4   0  14   1 262]]\n",
            "***********************************************************\n",
            "***********************************************************\n",
            "\n",
            "\n",
            "\n"
          ]
        }
      ]
    }
  ]
}