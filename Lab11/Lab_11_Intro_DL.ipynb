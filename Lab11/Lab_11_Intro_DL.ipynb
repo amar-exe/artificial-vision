{
  "nbformat": 4,
  "nbformat_minor": 0,
  "metadata": {
    "colab": {
      "name": "Lab_11_Intro_DL.ipynb",
      "provenance": [],
      "collapsed_sections": [],
      "toc_visible": true
    },
    "kernelspec": {
      "name": "python3",
      "display_name": "Python 3"
    },
    "accelerator": "GPU"
  },
  "cells": [
    {
      "cell_type": "markdown",
      "metadata": {
        "id": "bOnTvVtqHwmn"
      },
      "source": [
        "#IMPORT LIBRARIES"
      ]
    },
    {
      "cell_type": "code",
      "metadata": {
        "id": "Ix79FGeKRa_9"
      },
      "source": [
        "%tensorflow_version 2.x"
      ],
      "execution_count": 19,
      "outputs": []
    },
    {
      "cell_type": "code",
      "metadata": {
        "id": "CNL09qOLH6Uj"
      },
      "source": [
        "# Import tensorflow\n",
        "import tensorflow as tf\n",
        "\n",
        "# From Keras, import the functions that allow you to work with layers and models\n",
        "from tensorflow.keras import layers, models\n",
        "\n",
        "# From Keras, import the MNIST dataset\n",
        "from keras.datasets import mnist\n",
        "\n",
        "# From Keras.utils, import a function that allows you to converts a \n",
        "# class vector (integers) to binary class matrix.\n",
        "from tensorflow.keras.utils import to_categorical\n",
        "# From sklearn, import the functions that allow you to work with the \n",
        "# SVM, Random Forest and Gaussian Naïve Bayes\n",
        "from sklearn import svm\n",
        "from sklearn.naive_bayes import GaussianNB\n",
        "from sklearn.ensemble import RandomForestClassifier\n",
        "\n",
        "# From sklearn, import the functions that allow you to compute the\n",
        "#confussion matrix and the accuracy score\n",
        "from sklearn.metrics import confusion_matrix\n",
        "from sklearn.metrics import accuracy_score\n",
        "\n",
        "# From sklearn, import the functions that allow you to split arrays \n",
        "# or matrices into random train and test subsets.\n",
        "from sklearn.model_selection import train_test_split\n",
        "\n",
        "import numpy as np\n",
        "import matplotlib.pyplot as plt"
      ],
      "execution_count": 22,
      "outputs": []
    },
    {
      "cell_type": "markdown",
      "metadata": {
        "id": "UYoEWxB8H_dz"
      },
      "source": [
        "#LOAD THE DATA"
      ]
    },
    {
      "cell_type": "code",
      "metadata": {
        "id": "C3rFC0HQIE-m"
      },
      "source": [
        "# Load the MNIST dataset\n",
        "_, (images, labels) = mnist.load_data()"
      ],
      "execution_count": 25,
      "outputs": []
    },
    {
      "cell_type": "markdown",
      "metadata": {
        "id": "Dojvk5pOIJOC"
      },
      "source": [
        "### Displaying some images"
      ]
    },
    {
      "cell_type": "code",
      "metadata": {
        "id": "nCOR9EEdJJrR",
        "outputId": "5dd0827a-27a1-4287-d774-e2f1df00cd36",
        "colab": {
          "base_uri": "https://localhost:8080/",
          "height": 120
        }
      },
      "source": [
        "images_and_labels = list(zip(images[:4], labels[:4]))\n",
        "for index, (image, label) in enumerate(images_and_labels):\n",
        "    plt.subplot(1, 4, index + 1)\n",
        "    plt.axis('off')\n",
        "    plt.imshow(image, cmap=plt.cm.gray_r, interpolation='nearest')\n",
        "    plt.title('Training: %i' % label)"
      ],
      "execution_count": 26,
      "outputs": [
        {
          "output_type": "display_data",
          "data": {
            "text/plain": [
              "<Figure size 432x288 with 4 Axes>"
            ],
            "image/png": "[encoded data removed]"
          },
          "metadata": {
            "needs_background": "light"
          }
        }
      ]
    },
    {
      "cell_type": "markdown",
      "metadata": {
        "id": "qPmWMqqPISoH"
      },
      "source": [
        "### Split the dataset in training and test sets"
      ]
    },
    {
      "cell_type": "code",
      "metadata": {
        "id": "7vIJVjGgJNT_"
      },
      "source": [
        "# Split the dataset into training and test set, using 30% as test set\n",
        "train_images, test_images, train_labels, test_labels = train_test_split(\n",
        "        images, labels, test_size=0.3, shuffle=True)"
      ],
      "execution_count": 27,
      "outputs": []
    },
    {
      "cell_type": "markdown",
      "metadata": {
        "id": "K0uzAAc5IWcR"
      },
      "source": [
        "### To apply classifiers on this data, we need to flatten the image, to turn the data into a (samples, feature) matrix:"
      ]
    },
    {
      "cell_type": "code",
      "metadata": {
        "id": "B4ga7BmEJTaQ"
      },
      "source": [
        "# How many images do you have in the training set?\n",
        "n_train_samples = len(train_images)\n",
        "train_data = train_images.reshape((n_train_samples, -1))\n",
        "train_data = train_data.astype('float32') / 255\n",
        "\n",
        "# How many images do you have in the test set?\n",
        "n_test_samples = len(test_images)\n",
        "test_data = test_images.reshape((n_test_samples, -1))\n",
        "testdata = test_data.astype('float32') / 255"
      ],
      "execution_count": 29,
      "outputs": []
    },
    {
      "cell_type": "markdown",
      "metadata": {
        "id": "0Zuzi4_6Ic_V"
      },
      "source": [
        "# **CLASSIFYING USING SVM**"
      ]
    },
    {
      "cell_type": "code",
      "metadata": {
        "id": "T8U622uOJfnq",
        "outputId": "d6deb426-678e-444d-e1e5-8af3be302658",
        "colab": {
          "base_uri": "https://localhost:8080/"
        }
      },
      "source": [
        "print('\\n\\n***********************************************************')\n",
        "print('***********************************************************')\n",
        "print('**** CLASSIFICATION USING SUPPORT VECTOR MACHINE (SVM) ****')\n",
        "print('***********************************************************')\n",
        "print('***********************************************************\\n\\n')"
      ],
      "execution_count": 30,
      "outputs": [
        {
          "output_type": "stream",
          "name": "stdout",
          "text": [
            "\n",
            "\n",
            "***********************************************************\n",
            "***********************************************************\n",
            "**** CLASSIFICATION USING SUPPORT VECTOR MACHINE (SVM) ****\n",
            "***********************************************************\n",
            "***********************************************************\n",
            "\n",
            "\n"
          ]
        }
      ]
    },
    {
      "cell_type": "markdown",
      "metadata": {
        "id": "yKeyfFMIIgCo"
      },
      "source": [
        "### Creating SVM instance"
      ]
    },
    {
      "cell_type": "code",
      "metadata": {
        "id": "xCuUYin0JV2g"
      },
      "source": [
        "SVM_model = svm.SVC(C=1, kernel = 'linear')"
      ],
      "execution_count": 36,
      "outputs": []
    },
    {
      "cell_type": "markdown",
      "metadata": {
        "id": "yOKtIUFSIio8"
      },
      "source": [
        "### Fit the SVM model according to the training data"
      ]
    },
    {
      "cell_type": "code",
      "metadata": {
        "id": "63fqwmxyJYOw",
        "outputId": "f240164c-8e36-44c7-ca02-be50e817191c",
        "colab": {
          "base_uri": "https://localhost:8080/"
        }
      },
      "source": [
        "SVM_model.fit(train_data,train_labels)"
      ],
      "execution_count": 39,
      "outputs": [
        {
          "output_type": "execute_result",
          "data": {
            "text/plain": [
              "SVC(C=1, kernel='linear')"
            ]
          },
          "metadata": {},
          "execution_count": 39
        }
      ]
    },
    {
      "cell_type": "markdown",
      "metadata": {
        "id": "EDNMC-5fInCY"
      },
      "source": [
        "### Classify the test data"
      ]
    },
    {
      "cell_type": "code",
      "metadata": {
        "id": "0PgToqGKJY_9"
      },
      "source": [
        "predicted_classes_SVM = SVM_model.predict(testdata)"
      ],
      "execution_count": 40,
      "outputs": []
    },
    {
      "cell_type": "markdown",
      "metadata": {
        "id": "QmAa5lUxI-0L"
      },
      "source": [
        "### Print the preformance metrics (i.e. accuracy and Confusion Matrix)"
      ]
    },
    {
      "cell_type": "code",
      "metadata": {
        "id": "1UC5CUhYJa5o",
        "outputId": "9dbb1b4c-4d29-4041-ca38-3706e06d0d0e",
        "colab": {
          "base_uri": "https://localhost:8080/"
        }
      },
      "source": [
        "accuracy_SVM = accuracy_score(test_labels, predicted_classes_SVM ) # accuracy\n",
        "print()\n",
        "print('Accuracy (Support Vector Machine)= {}\\n'.format(accuracy_SVM))\n",
        "cm_SVM = confusion_matrix(test_labels,predicted_classes_SVM ) # Confusion matrix\n",
        "print('Confusion Matrix with SVM: ')\n",
        "print(cm_SVM)\n",
        "print('***********************************************************')\n",
        "print('***********************************************************')\n",
        "print('\\n\\n')"
      ],
      "execution_count": 43,
      "outputs": [
        {
          "output_type": "stream",
          "name": "stdout",
          "text": [
            "\n",
            "Accuracy (Support Vector Machine)= 0.919\n",
            "\n",
            "Confusion Matrix with SVM: \n",
            "[[287   0   1   0   0   6   1   1   2   0]\n",
            " [  0 330   0   0   0   2   0   1   0   0]\n",
            " [  1   2 269   3  11   2   2   1   1   0]\n",
            " [  0   0   7 298   0  12   0   3   3   0]\n",
            " [  1   0   1   1 295   0   1   1   2  15]\n",
            " [  3   2   1   8   2 228   5   1   5   2]\n",
            " [  2   4   7   0   3   7 275   0   0   0]\n",
            " [  1   6   5   2   4   1   0 298   1   9]\n",
            " [  1   8   4  11   4   7   2   1 230   4]\n",
            " [  2   1   2   4  18   4   0   4   1 247]]\n",
            "***********************************************************\n",
            "***********************************************************\n",
            "\n",
            "\n",
            "\n"
          ]
        }
      ]
    },
    {
      "cell_type": "markdown",
      "metadata": {
        "id": "mHcEkGatKrol"
      },
      "source": [
        "# **CLASSIFY USING GAUSSIAN NAIVE BAYES**"
      ]
    },
    {
      "cell_type": "code",
      "metadata": {
        "id": "9uCdVf9sMV7h",
        "outputId": "c0e7ba2b-b3b9-4807-83e8-4071ced7a8f2",
        "colab": {
          "base_uri": "https://localhost:8080/"
        }
      },
      "source": [
        "print('\\n\\n***********************************************************')\n",
        "print('***********************************************************')\n",
        "print('******** CLASSIFICATION USING GAUSSIAN NAIVE BAYES ********')\n",
        "print('***********************************************************')\n",
        "print('***********************************************************\\n\\n')"
      ],
      "execution_count": 44,
      "outputs": [
        {
          "output_type": "stream",
          "name": "stdout",
          "text": [
            "\n",
            "\n",
            "***********************************************************\n",
            "***********************************************************\n",
            "******** CLASSIFICATION USING GAUSSIAN NAIVE BAYES ********\n",
            "***********************************************************\n",
            "***********************************************************\n",
            "\n",
            "\n"
          ]
        }
      ]
    },
    {
      "cell_type": "markdown",
      "metadata": {
        "id": "w2wBlpi5KwSX"
      },
      "source": [
        "### Creating the Gaussian Naive Bayes instance"
      ]
    },
    {
      "cell_type": "code",
      "metadata": {
        "id": "tZqGba65MZCK"
      },
      "source": [
        "NB_model = GaussianNB()"
      ],
      "execution_count": 45,
      "outputs": []
    },
    {
      "cell_type": "markdown",
      "metadata": {
        "id": "bZXoLIYMK0gM"
      },
      "source": [
        "### Fit the Naive Bayes classifier according to the training data"
      ]
    },
    {
      "cell_type": "code",
      "metadata": {
        "id": "nYL-0zF8MfZF",
        "outputId": "823fe47a-f282-4a46-d28b-027d1d8f08ff",
        "colab": {
          "base_uri": "https://localhost:8080/"
        }
      },
      "source": [
        "NB_model.fit(train_data, train_labels )"
      ],
      "execution_count": 46,
      "outputs": [
        {
          "output_type": "execute_result",
          "data": {
            "text/plain": [
              "GaussianNB()"
            ]
          },
          "metadata": {},
          "execution_count": 46
        }
      ]
    },
    {
      "cell_type": "markdown",
      "metadata": {
        "id": "u_s2DD-zK3Js"
      },
      "source": [
        "### Classify the test data"
      ]
    },
    {
      "cell_type": "code",
      "metadata": {
        "id": "AFpjRktKMl82"
      },
      "source": [
        "predicted_classes_NB = NB_model.predict(testdata)"
      ],
      "execution_count": 47,
      "outputs": []
    },
    {
      "cell_type": "markdown",
      "metadata": {
        "id": "SXuFiLS2K56I"
      },
      "source": [
        "### Print the preformance metrics (i.e. accuracy and Confusion Matrix)"
      ]
    },
    {
      "cell_type": "code",
      "metadata": {
        "id": "Gnfk6nptMxOq",
        "outputId": "007fde2d-9204-4fa9-df5c-f0a61ef808df",
        "colab": {
          "base_uri": "https://localhost:8080/"
        }
      },
      "source": [
        "accuracy_NB =  accuracy_score(test_labels, predicted_classes_SVM ) # accuracy\n",
        "print()\n",
        "print('Accuracy (Gaussian Naive Bayes)= {}\\n'.format(accuracy_NB))\n",
        "cm_NB =  confusion_matrix(test_labels, predicted_classes_SVM ) # Confusion matrix\n",
        "print('Confusion Matrix with Gaussian Naive Bayes: ')\n",
        "print(cm_NB)\n",
        "print('***********************************************************')\n",
        "print('***********************************************************')\n",
        "print('\\n\\n')"
      ],
      "execution_count": 48,
      "outputs": [
        {
          "output_type": "stream",
          "name": "stdout",
          "text": [
            "\n",
            "Accuracy (Gaussian Naive Bayes)= 0.919\n",
            "\n",
            "Confusion Matrix with Gaussian Naive Bayes: \n",
            "[[287   0   1   0   0   6   1   1   2   0]\n",
            " [  0 330   0   0   0   2   0   1   0   0]\n",
            " [  1   2 269   3  11   2   2   1   1   0]\n",
            " [  0   0   7 298   0  12   0   3   3   0]\n",
            " [  1   0   1   1 295   0   1   1   2  15]\n",
            " [  3   2   1   8   2 228   5   1   5   2]\n",
            " [  2   4   7   0   3   7 275   0   0   0]\n",
            " [  1   6   5   2   4   1   0 298   1   9]\n",
            " [  1   8   4  11   4   7   2   1 230   4]\n",
            " [  2   1   2   4  18   4   0   4   1 247]]\n",
            "***********************************************************\n",
            "***********************************************************\n",
            "\n",
            "\n",
            "\n"
          ]
        }
      ]
    },
    {
      "cell_type": "markdown",
      "metadata": {
        "id": "V1HkmjkKK8R1"
      },
      "source": [
        "# **CLASSIFY USING A RANDOM FOREST**"
      ]
    },
    {
      "cell_type": "code",
      "metadata": {
        "id": "0Y4SzrYlM7PZ",
        "outputId": "b5bb7bce-11f6-4ad0-a1eb-21408ce18f2a",
        "colab": {
          "base_uri": "https://localhost:8080/"
        }
      },
      "source": [
        "print('\\n\\n************************************************************')\n",
        "print('************************************************************')\n",
        "print('************ CLASSIFICATION USING RANDOM FOREST ************')\n",
        "print('************************************************************')\n",
        "print('************************************************************\\n\\n')"
      ],
      "execution_count": 49,
      "outputs": [
        {
          "output_type": "stream",
          "name": "stdout",
          "text": [
            "\n",
            "\n",
            "************************************************************\n",
            "************************************************************\n",
            "************ CLASSIFICATION USING RANDOM FOREST ************\n",
            "************************************************************\n",
            "************************************************************\n",
            "\n",
            "\n"
          ]
        }
      ]
    },
    {
      "cell_type": "markdown",
      "metadata": {
        "id": "mfrbU89qK_XP"
      },
      "source": [
        "### Creating the Random Forest instance"
      ]
    },
    {
      "cell_type": "code",
      "metadata": {
        "id": "QgUCw57_M7_6"
      },
      "source": [
        "RndForest_model = RandomForestClassifier(n_estimators=100,max_depth=6)"
      ],
      "execution_count": 53,
      "outputs": []
    },
    {
      "cell_type": "markdown",
      "metadata": {
        "id": "x_Rj4b-gLCEB"
      },
      "source": [
        "### Fit the Random Forest model according to the training data"
      ]
    },
    {
      "cell_type": "code",
      "metadata": {
        "id": "zqSObyQwNDMS",
        "outputId": "af6cff97-bd0b-4974-d3df-11cded6650f2",
        "colab": {
          "base_uri": "https://localhost:8080/"
        }
      },
      "source": [
        "from sklearn.utils.multiclass import type_of_target\n",
        "RndForest_model.fit(train_data, train_labels)"
      ],
      "execution_count": 54,
      "outputs": [
        {
          "output_type": "execute_result",
          "data": {
            "text/plain": [
              "RandomForestClassifier(max_depth=6)"
            ]
          },
          "metadata": {},
          "execution_count": 54
        }
      ]
    },
    {
      "cell_type": "markdown",
      "metadata": {
        "id": "oYuqKwa1LEik"
      },
      "source": [
        "### Classify the test data"
      ]
    },
    {
      "cell_type": "code",
      "metadata": {
        "id": "lHh3UkbvNFYw"
      },
      "source": [
        "predicted_classes_RF = RndForest_model.predict(testdata)"
      ],
      "execution_count": 55,
      "outputs": []
    },
    {
      "cell_type": "markdown",
      "metadata": {
        "id": "0OJo-X5CLGnS"
      },
      "source": [
        "### Print the preformance metrics (i.e. accuracy and Confusion Matrix)"
      ]
    },
    {
      "cell_type": "code",
      "metadata": {
        "id": "F9E0Zcp6NLny",
        "outputId": "e9522bf3-3064-4676-f864-025af2b903ba",
        "colab": {
          "base_uri": "https://localhost:8080/"
        }
      },
      "source": [
        "accuracy_RF = accuracy_score(test_labels, predicted_classes_SVM ) # Accuracy\n",
        "print()\n",
        "print('Accuracy (Random Forest)= {}\\n'.format(accuracy_RF))\n",
        "cm_RF = confusion_matrix(test_labels, predicted_classes_SVM ) # Confusion matrix\n",
        "print('Confusion Matrix with Random Forest: ')\n",
        "print(cm_RF)\n",
        "print('***********************************************************')\n",
        "print('***********************************************************')\n",
        "print('\\n\\n')"
      ],
      "execution_count": 56,
      "outputs": [
        {
          "output_type": "stream",
          "name": "stdout",
          "text": [
            "\n",
            "Accuracy (Random Forest)= 0.919\n",
            "\n",
            "Confusion Matrix with Random Forest: \n",
            "[[287   0   1   0   0   6   1   1   2   0]\n",
            " [  0 330   0   0   0   2   0   1   0   0]\n",
            " [  1   2 269   3  11   2   2   1   1   0]\n",
            " [  0   0   7 298   0  12   0   3   3   0]\n",
            " [  1   0   1   1 295   0   1   1   2  15]\n",
            " [  3   2   1   8   2 228   5   1   5   2]\n",
            " [  2   4   7   0   3   7 275   0   0   0]\n",
            " [  1   6   5   2   4   1   0 298   1   9]\n",
            " [  1   8   4  11   4   7   2   1 230   4]\n",
            " [  2   1   2   4  18   4   0   4   1 247]]\n",
            "***********************************************************\n",
            "***********************************************************\n",
            "\n",
            "\n",
            "\n"
          ]
        }
      ]
    },
    {
      "cell_type": "markdown",
      "metadata": {
        "id": "Wg4e3ZSTLJbG"
      },
      "source": [
        "# **CLASSIFY USING A SHALLOW NEURAL NETWORK**"
      ]
    },
    {
      "cell_type": "code",
      "metadata": {
        "id": "TIG8SbTeNQ8p",
        "outputId": "82616c9a-d548-4b8d-99c0-2eb2ac0e73f9",
        "colab": {
          "base_uri": "https://localhost:8080/"
        }
      },
      "source": [
        "print('\\n\\n***********************************************************')\n",
        "print('***********************************************************')\n",
        "print('****** CLASSIFICATION USING A SHALLOW NEURAL NETWORK ******')\n",
        "print('***********************************************************')\n",
        "print('***********************************************************\\n\\n')"
      ],
      "execution_count": 57,
      "outputs": [
        {
          "output_type": "stream",
          "name": "stdout",
          "text": [
            "\n",
            "\n",
            "***********************************************************\n",
            "***********************************************************\n",
            "****** CLASSIFICATION USING A SHALLOW NEURAL NETWORK ******\n",
            "***********************************************************\n",
            "***********************************************************\n",
            "\n",
            "\n"
          ]
        }
      ]
    },
    {
      "cell_type": "markdown",
      "metadata": {
        "id": "r4Ryif7RLLy-"
      },
      "source": [
        "### Defining network architecture"
      ]
    },
    {
      "cell_type": "code",
      "metadata": {
        "id": "ZO3druhANTNL"
      },
      "source": [
        "NN_model = models.Sequential()\n",
        "NN_model.add(layers.Dense(64,activation = 'relu' , input_shape=(np.prod(train_data.shape[1:3]),)))\n",
        "NN_model.add(layers.Dense(10,activation = 'softmax' ))"
      ],
      "execution_count": 61,
      "outputs": []
    },
    {
      "cell_type": "markdown",
      "metadata": {
        "id": "jaDXvvw7LOPF"
      },
      "source": [
        "### Showing network architecture "
      ]
    },
    {
      "cell_type": "code",
      "metadata": {
        "id": "GaBrqbJLNV2n",
        "outputId": "e45fa2c3-e525-4321-a88a-afa795b0e80a",
        "colab": {
          "base_uri": "https://localhost:8080/"
        }
      },
      "source": [
        "print('\\n\\n**********************************')\n",
        "print('****** NETWORK ARCHITECTURE ******')\n",
        "print('**********************************\\n')\n",
        "NN_model.summary()"
      ],
      "execution_count": 62,
      "outputs": [
        {
          "output_type": "stream",
          "name": "stdout",
          "text": [
            "\n",
            "\n",
            "**********************************\n",
            "****** NETWORK ARCHITECTURE ******\n",
            "**********************************\n",
            "\n",
            "Model: \"sequential\"\n",
            "_________________________________________________________________\n",
            " Layer (type)                Output Shape              Param #   \n",
            "=================================================================\n",
            " dense (Dense)               (None, 64)                50240     \n",
            "                                                                 \n",
            " dense_1 (Dense)             (None, 10)                650       \n",
            "                                                                 \n",
            "=================================================================\n",
            "Total params: 50,890\n",
            "Trainable params: 50,890\n",
            "Non-trainable params: 0\n",
            "_________________________________________________________________\n"
          ]
        }
      ]
    },
    {
      "cell_type": "markdown",
      "metadata": {
        "id": "b_xZBSnoLSEI"
      },
      "source": [
        "### Compilation of the network"
      ]
    },
    {
      "cell_type": "code",
      "metadata": {
        "id": "UlkG16g7NYSA"
      },
      "source": [
        "NN_model.compile(optimizer='adam', metrics=['accuracy'] ,loss='binary_crossentroy')"
      ],
      "execution_count": 70,
      "outputs": []
    },
    {
      "cell_type": "markdown",
      "metadata": {
        "id": "MN4Aw35dLUMA"
      },
      "source": [
        "### Preparing the labels"
      ]
    },
    {
      "cell_type": "code",
      "metadata": {
        "id": "G0y6k6lMNZy2"
      },
      "source": [
        "# Convert to categorical the training and test labels\n",
        "train_labels_categorical = to_categorical(train_labels)\n",
        "test_labels_categorical = to_categorical(test_labels)"
      ],
      "execution_count": 64,
      "outputs": []
    },
    {
      "cell_type": "markdown",
      "metadata": {
        "id": "njU5H-B6LWAN"
      },
      "source": [
        "### Train the network"
      ]
    },
    {
      "cell_type": "code",
      "metadata": {
        "id": "wQP_7SK_NbwB",
        "outputId": "e49b1952-5a81-4ecf-d048-39211cf624e9",
        "colab": {
          "base_uri": "https://localhost:8080/",
          "height": 832
        }
      },
      "source": [
        "NN_model.fit(train_data, train_labels_categorical, epochs = 10)"
      ],
      "execution_count": 71,
      "outputs": [
        {
          "output_type": "stream",
          "name": "stdout",
          "text": [
            "Epoch 1/10\n"
          ]
        },
        {
          "output_type": "error",
          "ename": "ValueError",
          "evalue": "ignored",
          "traceback": [
            "\u001b[0;31m---------------------------------------------------------------------------\u001b[0m",
            "\u001b[0;31mValueError\u001b[0m                                Traceback (most recent call last)",
            "\u001b[0;32m<ipython-input-71-54cbc0d7589a>\u001b[0m in \u001b[0;36m<module>\u001b[0;34m()\u001b[0m\n\u001b[0;32m----> 1\u001b[0;31m \u001b[0mNN_model\u001b[0m\u001b[0;34m.\u001b[0m\u001b[0mfit\u001b[0m\u001b[0;34m(\u001b[0m\u001b[0mtrain_data\u001b[0m\u001b[0;34m,\u001b[0m \u001b[0mtrain_labels_categorical\u001b[0m\u001b[0;34m,\u001b[0m \u001b[0mepochs\u001b[0m \u001b[0;34m=\u001b[0m \u001b[0;36m10\u001b[0m\u001b[0;34m)\u001b[0m\u001b[0;34m\u001b[0m\u001b[0;34m\u001b[0m\u001b[0m\n\u001b[0m",
            "\u001b[0;32m/usr/local/lib/python3.7/dist-packages/keras/utils/traceback_utils.py\u001b[0m in \u001b[0;36merror_handler\u001b[0;34m(*args, **kwargs)\u001b[0m\n\u001b[1;32m     65\u001b[0m     \u001b[0;32mexcept\u001b[0m \u001b[0mException\u001b[0m \u001b[0;32mas\u001b[0m \u001b[0me\u001b[0m\u001b[0;34m:\u001b[0m  \u001b[0;31m# pylint: disable=broad-except\u001b[0m\u001b[0;34m\u001b[0m\u001b[0;34m\u001b[0m\u001b[0m\n\u001b[1;32m     66\u001b[0m       \u001b[0mfiltered_tb\u001b[0m \u001b[0;34m=\u001b[0m \u001b[0m_process_traceback_frames\u001b[0m\u001b[0;34m(\u001b[0m\u001b[0me\u001b[0m\u001b[0;34m.\u001b[0m\u001b[0m__traceback__\u001b[0m\u001b[0;34m)\u001b[0m\u001b[0;34m\u001b[0m\u001b[0;34m\u001b[0m\u001b[0m\n\u001b[0;32m---> 67\u001b[0;31m       \u001b[0;32mraise\u001b[0m \u001b[0me\u001b[0m\u001b[0;34m.\u001b[0m\u001b[0mwith_traceback\u001b[0m\u001b[0;34m(\u001b[0m\u001b[0mfiltered_tb\u001b[0m\u001b[0;34m)\u001b[0m \u001b[0;32mfrom\u001b[0m \u001b[0;32mNone\u001b[0m\u001b[0;34m\u001b[0m\u001b[0;34m\u001b[0m\u001b[0m\n\u001b[0m\u001b[1;32m     68\u001b[0m     \u001b[0;32mfinally\u001b[0m\u001b[0;34m:\u001b[0m\u001b[0;34m\u001b[0m\u001b[0;34m\u001b[0m\u001b[0m\n\u001b[1;32m     69\u001b[0m       \u001b[0;32mdel\u001b[0m \u001b[0mfiltered_tb\u001b[0m\u001b[0;34m\u001b[0m\u001b[0;34m\u001b[0m\u001b[0m\n",
            "\u001b[0;32m/usr/local/lib/python3.7/dist-packages/tensorflow/python/framework/func_graph.py\u001b[0m in \u001b[0;36mautograph_handler\u001b[0;34m(*args, **kwargs)\u001b[0m\n\u001b[1;32m   1145\u001b[0m           \u001b[0;32mexcept\u001b[0m \u001b[0mException\u001b[0m \u001b[0;32mas\u001b[0m \u001b[0me\u001b[0m\u001b[0;34m:\u001b[0m  \u001b[0;31m# pylint:disable=broad-except\u001b[0m\u001b[0;34m\u001b[0m\u001b[0;34m\u001b[0m\u001b[0m\n\u001b[1;32m   1146\u001b[0m             \u001b[0;32mif\u001b[0m \u001b[0mhasattr\u001b[0m\u001b[0;34m(\u001b[0m\u001b[0me\u001b[0m\u001b[0;34m,\u001b[0m \u001b[0;34m\"ag_error_metadata\"\u001b[0m\u001b[0;34m)\u001b[0m\u001b[0;34m:\u001b[0m\u001b[0;34m\u001b[0m\u001b[0;34m\u001b[0m\u001b[0m\n\u001b[0;32m-> 1147\u001b[0;31m               \u001b[0;32mraise\u001b[0m \u001b[0me\u001b[0m\u001b[0;34m.\u001b[0m\u001b[0mag_error_metadata\u001b[0m\u001b[0;34m.\u001b[0m\u001b[0mto_exception\u001b[0m\u001b[0;34m(\u001b[0m\u001b[0me\u001b[0m\u001b[0;34m)\u001b[0m\u001b[0;34m\u001b[0m\u001b[0;34m\u001b[0m\u001b[0m\n\u001b[0m\u001b[1;32m   1148\u001b[0m             \u001b[0;32melse\u001b[0m\u001b[0;34m:\u001b[0m\u001b[0;34m\u001b[0m\u001b[0;34m\u001b[0m\u001b[0m\n\u001b[1;32m   1149\u001b[0m               \u001b[0;32mraise\u001b[0m\u001b[0;34m\u001b[0m\u001b[0;34m\u001b[0m\u001b[0m\n",
            "\u001b[0;31mValueError\u001b[0m: in user code:\n\n    File \"/usr/local/lib/python3.7/dist-packages/keras/engine/training.py\", line 1021, in train_function  *\n        return step_function(self, iterator)\n    File \"/usr/local/lib/python3.7/dist-packages/keras/engine/training.py\", line 1010, in step_function  **\n        outputs = model.distribute_strategy.run(run_step, args=(data,))\n    File \"/usr/local/lib/python3.7/dist-packages/keras/engine/training.py\", line 1000, in run_step  **\n        outputs = model.train_step(data)\n    File \"/usr/local/lib/python3.7/dist-packages/keras/engine/training.py\", line 860, in train_step\n        loss = self.compute_loss(x, y, y_pred, sample_weight)\n    File \"/usr/local/lib/python3.7/dist-packages/keras/engine/training.py\", line 919, in compute_loss\n        y, y_pred, sample_weight, regularization_losses=self.losses)\n    File \"/usr/local/lib/python3.7/dist-packages/keras/engine/compile_utils.py\", line 184, in __call__\n        self.build(y_pred)\n    File \"/usr/local/lib/python3.7/dist-packages/keras/engine/compile_utils.py\", line 133, in build\n        self._losses = tf.nest.map_structure(self._get_loss_object, self._losses)\n    File \"/usr/local/lib/python3.7/dist-packages/keras/engine/compile_utils.py\", line 272, in _get_loss_object\n        loss = losses_mod.get(loss)\n    File \"/usr/local/lib/python3.7/dist-packages/keras/losses.py\", line 2369, in get\n        return deserialize(identifier)\n    File \"/usr/local/lib/python3.7/dist-packages/keras/losses.py\", line 2328, in deserialize\n        printable_module_name='loss function')\n    File \"/usr/local/lib/python3.7/dist-packages/keras/utils/generic_utils.py\", line 710, in deserialize_keras_object\n        f'Unknown {printable_module_name}: {object_name}. Please ensure '\n\n    ValueError: Unknown loss function: binary_crossentroy. Please ensure this object is passed to the `custom_objects` argument. See https://www.tensorflow.org/guide/keras/save_and_serialize#registering_the_custom_object for details.\n"
          ]
        }
      ]
    },
    {
      "cell_type": "markdown",
      "metadata": {
        "id": "EWZQEoCWLX_e"
      },
      "source": [
        "### Classify the test images"
      ]
    },
    {
      "cell_type": "code",
      "metadata": {
        "id": "VMqSCDzZNfZT"
      },
      "source": [
        "predicted_classes_categorical_NN = NN_model.predict(testdata)"
      ],
      "execution_count": 72,
      "outputs": []
    },
    {
      "cell_type": "markdown",
      "metadata": {
        "id": "AkNFwKpsLaSy"
      },
      "source": [
        "### Get classes in integer format"
      ]
    },
    {
      "cell_type": "code",
      "metadata": {
        "id": "fieb1oJuNh-h"
      },
      "source": [
        "predicted_classes_NN = np.argmax(predicted_classes_categorical_NN, axis=1)"
      ],
      "execution_count": 73,
      "outputs": []
    },
    {
      "cell_type": "markdown",
      "metadata": {
        "id": "uPwDtm_ULcRB"
      },
      "source": [
        "### Print the preformance metrics (i.e. accuracy and Confusion Matrix)"
      ]
    },
    {
      "cell_type": "code",
      "metadata": {
        "id": "w3abLukJNlW7",
        "outputId": "b9bcdd49-97b8-4a96-c9d4-eff9c197a76c",
        "colab": {
          "base_uri": "https://localhost:8080/"
        }
      },
      "source": [
        "accuracy_NN = accuracy_score(test_labels, predicted_classes_SVM ) # accuracy\n",
        "print()\n",
        "print('Accuracy (Shallow Neural Network)= {}\\n'.format(accuracy_NN))\n",
        "cm_NN = confusion_matrix(test_labels, predicted_classes_SVM ) # Confusion matrix\n",
        "print('Confusion Matrix with Shallow Neural Network: ')\n",
        "print(cm_NN)\n",
        "print('***********************************************************')\n",
        "print('***********************************************************')\n",
        "print('\\n\\n')"
      ],
      "execution_count": 74,
      "outputs": [
        {
          "output_type": "stream",
          "name": "stdout",
          "text": [
            "\n",
            "Accuracy (Shallow Neural Network)= 0.919\n",
            "\n",
            "Confusion Matrix with Shallow Neural Network: \n",
            "[[287   0   1   0   0   6   1   1   2   0]\n",
            " [  0 330   0   0   0   2   0   1   0   0]\n",
            " [  1   2 269   3  11   2   2   1   1   0]\n",
            " [  0   0   7 298   0  12   0   3   3   0]\n",
            " [  1   0   1   1 295   0   1   1   2  15]\n",
            " [  3   2   1   8   2 228   5   1   5   2]\n",
            " [  2   4   7   0   3   7 275   0   0   0]\n",
            " [  1   6   5   2   4   1   0 298   1   9]\n",
            " [  1   8   4  11   4   7   2   1 230   4]\n",
            " [  2   1   2   4  18   4   0   4   1 247]]\n",
            "***********************************************************\n",
            "***********************************************************\n",
            "\n",
            "\n",
            "\n"
          ]
        }
      ]
    },
    {
      "cell_type": "markdown",
      "metadata": {
        "id": "CEykUDBsLm5T"
      },
      "source": [
        "# **CLASSIFY USING A SMALL CONVOLUTIONAL NEURAL NETWORK**"
      ]
    },
    {
      "cell_type": "code",
      "metadata": {
        "id": "73-nM2G-NrYm",
        "outputId": "90d532cc-f6eb-432a-b527-ad7d20972766",
        "colab": {
          "base_uri": "https://localhost:8080/"
        }
      },
      "source": [
        "print('\\n\\n***********************************************************')\n",
        "print('***********************************************************')\n",
        "print('*** CLASSIFICATION USING A CONVOLUTIONAL NEURAL NETWORK ***')\n",
        "print('***********************************************************')\n",
        "print('***********************************************************\\n\\n')"
      ],
      "execution_count": 75,
      "outputs": [
        {
          "output_type": "stream",
          "name": "stdout",
          "text": [
            "\n",
            "\n",
            "***********************************************************\n",
            "***********************************************************\n",
            "*** CLASSIFICATION USING A CONVOLUTIONAL NEURAL NETWORK ***\n",
            "***********************************************************\n",
            "***********************************************************\n",
            "\n",
            "\n"
          ]
        }
      ]
    },
    {
      "cell_type": "markdown",
      "metadata": {
        "id": "9TxiUEnsLyuS"
      },
      "source": [
        "### Preparing image data"
      ]
    },
    {
      "cell_type": "code",
      "metadata": {
        "id": "m-wsDVm9N4CY"
      },
      "source": [
        "train_images_for_CNN = train_images.reshape(train_images.shape + (1,))\n",
        "train_images_for_CNN = train_images_for_CNN.astype('float32') / 255\n",
        "\n",
        "test_images_for_CNN = test_images.reshape(test_images.shape + (1,))\n",
        "test_images_for_CNN = test_images_for_CNN.astype('float32') / 255"
      ],
      "execution_count": 76,
      "outputs": []
    },
    {
      "cell_type": "markdown",
      "metadata": {
        "id": "EFoJIy-nL3sE"
      },
      "source": [
        "### Preparing the labels"
      ]
    },
    {
      "cell_type": "code",
      "metadata": {
        "id": "cKE8BjaiN_UV"
      },
      "source": [
        "train_labels_categorical = to_categorical(train_labels)\n",
        "test_labels_categorical = to_categorical(test_labels)"
      ],
      "execution_count": 77,
      "outputs": []
    },
    {
      "cell_type": "markdown",
      "metadata": {
        "id": "KnLAXQSMLofy"
      },
      "source": [
        "### Starting the convnet architecture"
      ]
    },
    {
      "cell_type": "code",
      "metadata": {
        "id": "kC-AILR0NsR5"
      },
      "source": [
        "CNN_model = models.Sequential()\n",
        "# Include a 2D Convolutional layer with 32 filters with RELU activation function\n",
        "CNN_model.add(layers.Conv2D(32, (3, 3), activation='relu',\n",
        "                            input_shape=(28, 28, 1)))\n",
        "# Include a 2D Max Pooling Layer\n",
        "CNN_model.add(layers.MaxPool2D((2, 2)))\n",
        "\n",
        "# Include a 2D Convolutional layer with 64 filters\n",
        "CNN_model.add(layers.Conv2D(64, (3, 3), activation='relu'))\n",
        "\n",
        "# Include a 2D Max Pooling Layer\n",
        "CNN_model.add(layers.MaxPool2D((2, 2)))\n",
        "\n",
        "# Include a 2D Convolutional layer with 64 filters\n",
        "CNN_model.add(layers.Conv2D(64, (3, 3), activation='relu'))"
      ],
      "execution_count": 78,
      "outputs": []
    },
    {
      "cell_type": "markdown",
      "metadata": {
        "id": "zf_4JjtjLqrA"
      },
      "source": [
        "### Display the architecture of the convnet so far"
      ]
    },
    {
      "cell_type": "code",
      "metadata": {
        "id": "BOPYhHJoNu1O",
        "outputId": "bfe350a5-4276-4608-fb52-6009f5230405",
        "colab": {
          "base_uri": "https://localhost:8080/"
        }
      },
      "source": [
        "print('********************************************')\n",
        "print('**** ARCHITECTURE OF THE CONVNET SO FAR ****')\n",
        "print('********************************************\\n')\n",
        "CNN_model.summary()"
      ],
      "execution_count": 79,
      "outputs": [
        {
          "output_type": "stream",
          "name": "stdout",
          "text": [
            "********************************************\n",
            "**** ARCHITECTURE OF THE CONVNET SO FAR ****\n",
            "********************************************\n",
            "\n",
            "Model: \"sequential_1\"\n",
            "_________________________________________________________________\n",
            " Layer (type)                Output Shape              Param #   \n",
            "=================================================================\n",
            " conv2d (Conv2D)             (None, 26, 26, 32)        320       \n",
            "                                                                 \n",
            " max_pooling2d (MaxPooling2D  (None, 13, 13, 32)       0         \n",
            " )                                                               \n",
            "                                                                 \n",
            " conv2d_1 (Conv2D)           (None, 11, 11, 64)        18496     \n",
            "                                                                 \n",
            " max_pooling2d_1 (MaxPooling  (None, 5, 5, 64)         0         \n",
            " 2D)                                                             \n",
            "                                                                 \n",
            " conv2d_2 (Conv2D)           (None, 3, 3, 64)          36928     \n",
            "                                                                 \n",
            "=================================================================\n",
            "Total params: 55,744\n",
            "Trainable params: 55,744\n",
            "Non-trainable params: 0\n",
            "_________________________________________________________________\n"
          ]
        }
      ]
    },
    {
      "cell_type": "markdown",
      "metadata": {
        "id": "Y98HdGdGLtz7"
      },
      "source": [
        "### Adding a classifier on top of the convnet"
      ]
    },
    {
      "cell_type": "code",
      "metadata": {
        "id": "bxbldwpXNxc7"
      },
      "source": [
        "CNN_model.add(layers.Flatten()) # Flatten layer\n",
        "CNN_model.add(layers.Dense(64,activation='relu' )) # Dense layer\n",
        "CNN_model.add(layers.Dense(10, activation='softmax' )) # Dense layer"
      ],
      "execution_count": 81,
      "outputs": []
    },
    {
      "cell_type": "markdown",
      "metadata": {
        "id": "8TwE3Sj8LwOd"
      },
      "source": [
        "### Display the architecture of the convnet so far"
      ]
    },
    {
      "cell_type": "code",
      "metadata": {
        "id": "_HYkYdbCN0Zu",
        "outputId": "d1c184b8-66df-4ca8-8eb1-5e9453175ace",
        "colab": {
          "base_uri": "https://localhost:8080/"
        }
      },
      "source": [
        "print('\\n\\n****************************************************************************')\n",
        "print('**** ARCHITECTURE OF THE CONVNET AFTER ADDING THE CLASSIFICATION LAYERS ****')\n",
        "print('****************************************************************************\\n')\n",
        "CNN_model.summary()"
      ],
      "execution_count": 80,
      "outputs": [
        {
          "output_type": "stream",
          "name": "stdout",
          "text": [
            "\n",
            "\n",
            "****************************************************************************\n",
            "**** ARCHITECTURE OF THE CONVNET AFTER ADDING THE CLASSIFICATION LAYERS ****\n",
            "****************************************************************************\n",
            "\n",
            "Model: \"sequential_1\"\n",
            "_________________________________________________________________\n",
            " Layer (type)                Output Shape              Param #   \n",
            "=================================================================\n",
            " conv2d (Conv2D)             (None, 26, 26, 32)        320       \n",
            "                                                                 \n",
            " max_pooling2d (MaxPooling2D  (None, 13, 13, 32)       0         \n",
            " )                                                               \n",
            "                                                                 \n",
            " conv2d_1 (Conv2D)           (None, 11, 11, 64)        18496     \n",
            "                                                                 \n",
            " max_pooling2d_1 (MaxPooling  (None, 5, 5, 64)         0         \n",
            " 2D)                                                             \n",
            "                                                                 \n",
            " conv2d_2 (Conv2D)           (None, 3, 3, 64)          36928     \n",
            "                                                                 \n",
            "=================================================================\n",
            "Total params: 55,744\n",
            "Trainable params: 55,744\n",
            "Non-trainable params: 0\n",
            "_________________________________________________________________\n"
          ]
        }
      ]
    },
    {
      "cell_type": "markdown",
      "metadata": {
        "id": "1Js4YMDZL1Qr"
      },
      "source": [
        "### Compile the network"
      ]
    },
    {
      "cell_type": "code",
      "metadata": {
        "id": "f30lJOUYN9GH"
      },
      "source": [
        "CNN_model.compile(optimizer='RMSProp', metrics=['accuracy'] ,loss='binary_crossentroy')"
      ],
      "execution_count": 83,
      "outputs": []
    },
    {
      "cell_type": "markdown",
      "metadata": {
        "id": "giMn_f1cL53T"
      },
      "source": [
        "### Train the network"
      ]
    },
    {
      "cell_type": "code",
      "metadata": {
        "id": "9pyrTmHLOBu_",
        "outputId": "c4341380-1e0e-42f1-d438-291cd28491fb",
        "colab": {
          "base_uri": "https://localhost:8080/",
          "height": 658
        }
      },
      "source": [
        "# Use a batch size of 64\n",
        "CNN_model.fit(train_data,train_labels_categorical ,epochs=5 , batch_size=64)"
      ],
      "execution_count": 100,
      "outputs": [
        {
          "output_type": "stream",
          "name": "stdout",
          "text": [
            "Epoch 1/5\n"
          ]
        },
        {
          "output_type": "error",
          "ename": "ValueError",
          "evalue": "ignored",
          "traceback": [
            "\u001b[0;31m---------------------------------------------------------------------------\u001b[0m",
            "\u001b[0;31mValueError\u001b[0m                                Traceback (most recent call last)",
            "\u001b[0;32m<ipython-input-100-336a0164a041>\u001b[0m in \u001b[0;36m<module>\u001b[0;34m()\u001b[0m\n\u001b[1;32m      1\u001b[0m \u001b[0;31m# Use a batch size of 64\u001b[0m\u001b[0;34m\u001b[0m\u001b[0;34m\u001b[0m\u001b[0;34m\u001b[0m\u001b[0m\n\u001b[0;32m----> 2\u001b[0;31m \u001b[0mCNN_model\u001b[0m\u001b[0;34m.\u001b[0m\u001b[0mfit\u001b[0m\u001b[0;34m(\u001b[0m\u001b[0mtrain_data\u001b[0m\u001b[0;34m,\u001b[0m\u001b[0mtrain_labels_categorical\u001b[0m \u001b[0;34m,\u001b[0m\u001b[0mepochs\u001b[0m\u001b[0;34m=\u001b[0m\u001b[0;36m5\u001b[0m \u001b[0;34m,\u001b[0m \u001b[0mbatch_size\u001b[0m\u001b[0;34m=\u001b[0m\u001b[0;36m64\u001b[0m\u001b[0;34m)\u001b[0m\u001b[0;34m\u001b[0m\u001b[0;34m\u001b[0m\u001b[0m\n\u001b[0m",
            "\u001b[0;32m/usr/local/lib/python3.7/dist-packages/keras/utils/traceback_utils.py\u001b[0m in \u001b[0;36merror_handler\u001b[0;34m(*args, **kwargs)\u001b[0m\n\u001b[1;32m     65\u001b[0m     \u001b[0;32mexcept\u001b[0m \u001b[0mException\u001b[0m \u001b[0;32mas\u001b[0m \u001b[0me\u001b[0m\u001b[0;34m:\u001b[0m  \u001b[0;31m# pylint: disable=broad-except\u001b[0m\u001b[0;34m\u001b[0m\u001b[0;34m\u001b[0m\u001b[0m\n\u001b[1;32m     66\u001b[0m       \u001b[0mfiltered_tb\u001b[0m \u001b[0;34m=\u001b[0m \u001b[0m_process_traceback_frames\u001b[0m\u001b[0;34m(\u001b[0m\u001b[0me\u001b[0m\u001b[0;34m.\u001b[0m\u001b[0m__traceback__\u001b[0m\u001b[0;34m)\u001b[0m\u001b[0;34m\u001b[0m\u001b[0;34m\u001b[0m\u001b[0m\n\u001b[0;32m---> 67\u001b[0;31m       \u001b[0;32mraise\u001b[0m \u001b[0me\u001b[0m\u001b[0;34m.\u001b[0m\u001b[0mwith_traceback\u001b[0m\u001b[0;34m(\u001b[0m\u001b[0mfiltered_tb\u001b[0m\u001b[0;34m)\u001b[0m \u001b[0;32mfrom\u001b[0m \u001b[0;32mNone\u001b[0m\u001b[0;34m\u001b[0m\u001b[0;34m\u001b[0m\u001b[0m\n\u001b[0m\u001b[1;32m     68\u001b[0m     \u001b[0;32mfinally\u001b[0m\u001b[0;34m:\u001b[0m\u001b[0;34m\u001b[0m\u001b[0;34m\u001b[0m\u001b[0m\n\u001b[1;32m     69\u001b[0m       \u001b[0;32mdel\u001b[0m \u001b[0mfiltered_tb\u001b[0m\u001b[0;34m\u001b[0m\u001b[0;34m\u001b[0m\u001b[0m\n",
            "\u001b[0;32m/usr/local/lib/python3.7/dist-packages/tensorflow/python/framework/func_graph.py\u001b[0m in \u001b[0;36mautograph_handler\u001b[0;34m(*args, **kwargs)\u001b[0m\n\u001b[1;32m   1145\u001b[0m           \u001b[0;32mexcept\u001b[0m \u001b[0mException\u001b[0m \u001b[0;32mas\u001b[0m \u001b[0me\u001b[0m\u001b[0;34m:\u001b[0m  \u001b[0;31m# pylint:disable=broad-except\u001b[0m\u001b[0;34m\u001b[0m\u001b[0;34m\u001b[0m\u001b[0m\n\u001b[1;32m   1146\u001b[0m             \u001b[0;32mif\u001b[0m \u001b[0mhasattr\u001b[0m\u001b[0;34m(\u001b[0m\u001b[0me\u001b[0m\u001b[0;34m,\u001b[0m \u001b[0;34m\"ag_error_metadata\"\u001b[0m\u001b[0;34m)\u001b[0m\u001b[0;34m:\u001b[0m\u001b[0;34m\u001b[0m\u001b[0;34m\u001b[0m\u001b[0m\n\u001b[0;32m-> 1147\u001b[0;31m               \u001b[0;32mraise\u001b[0m \u001b[0me\u001b[0m\u001b[0;34m.\u001b[0m\u001b[0mag_error_metadata\u001b[0m\u001b[0;34m.\u001b[0m\u001b[0mto_exception\u001b[0m\u001b[0;34m(\u001b[0m\u001b[0me\u001b[0m\u001b[0;34m)\u001b[0m\u001b[0;34m\u001b[0m\u001b[0;34m\u001b[0m\u001b[0m\n\u001b[0m\u001b[1;32m   1148\u001b[0m             \u001b[0;32melse\u001b[0m\u001b[0;34m:\u001b[0m\u001b[0;34m\u001b[0m\u001b[0;34m\u001b[0m\u001b[0m\n\u001b[1;32m   1149\u001b[0m               \u001b[0;32mraise\u001b[0m\u001b[0;34m\u001b[0m\u001b[0;34m\u001b[0m\u001b[0m\n",
            "\u001b[0;31mValueError\u001b[0m: in user code:\n\n    File \"/usr/local/lib/python3.7/dist-packages/keras/engine/training.py\", line 1021, in train_function  *\n        return step_function(self, iterator)\n    File \"/usr/local/lib/python3.7/dist-packages/keras/engine/training.py\", line 1010, in step_function  **\n        outputs = model.distribute_strategy.run(run_step, args=(data,))\n    File \"/usr/local/lib/python3.7/dist-packages/keras/engine/training.py\", line 1000, in run_step  **\n        outputs = model.train_step(data)\n    File \"/usr/local/lib/python3.7/dist-packages/keras/engine/training.py\", line 859, in train_step\n        y_pred = self(x, training=True)\n    File \"/usr/local/lib/python3.7/dist-packages/keras/utils/traceback_utils.py\", line 67, in error_handler\n        raise e.with_traceback(filtered_tb) from None\n    File \"/usr/local/lib/python3.7/dist-packages/keras/engine/input_spec.py\", line 264, in assert_input_compatibility\n        raise ValueError(f'Input {input_index} of layer \"{layer_name}\" is '\n\n    ValueError: Input 0 of layer \"sequential_1\" is incompatible with the layer: expected shape=(None, 28, 28, 1), found shape=(None, 784)\n"
          ]
        }
      ]
    },
    {
      "cell_type": "markdown",
      "metadata": {
        "id": "FEoXqoolL8p5"
      },
      "source": [
        "### Classify the test data"
      ]
    },
    {
      "cell_type": "code",
      "metadata": {
        "id": "ByCufrjkODqY"
      },
      "source": [
        "predicted_classes_categorical_CNN = CNN_model.predict(test_images)"
      ],
      "execution_count": 88,
      "outputs": []
    },
    {
      "cell_type": "markdown",
      "metadata": {
        "id": "8D8qjATeL_f1"
      },
      "source": [
        "### Get classes in integer format"
      ]
    },
    {
      "cell_type": "code",
      "metadata": {
        "id": "zMxOCaILOORd"
      },
      "source": [
        "predicted_classes_CNN = np.argmax(predicted_classes_categorical_CNN, axis=1)"
      ],
      "execution_count": 89,
      "outputs": []
    },
    {
      "cell_type": "markdown",
      "metadata": {
        "id": "aB6dKfdgMBuk"
      },
      "source": [
        "### Print the performance metrics (i.e. accuracy and Confusion Matrix)"
      ]
    },
    {
      "cell_type": "code",
      "metadata": {
        "id": "Z_qJJBGjORjt",
        "outputId": "a997f5a1-8e9e-41fb-b466-bb68b8bee491",
        "colab": {
          "base_uri": "https://localhost:8080/"
        }
      },
      "source": [
        "accuracy_CNN = accuracy_score(test_labels, predicted_classes_SVM )# Accuracy\n",
        "print()\n",
        "print('Accuracy (Convolutional Neural Network)= {}\\n'.format(accuracy_CNN))\n",
        "cm_CNN = confusion_matrix(test_labels, predicted_classes_SVM )# Confusion matrix\n",
        "print('Confusion Matrix with Convolutional Neural Network: ')\n",
        "print(cm_CNN)\n",
        "print('***********************************************************')\n",
        "print('***********************************************************')\n",
        "print('\\n\\n')"
      ],
      "execution_count": 90,
      "outputs": [
        {
          "output_type": "stream",
          "name": "stdout",
          "text": [
            "\n",
            "Accuracy (Convolutional Neural Network)= 0.919\n",
            "\n",
            "Confusion Matrix with Convolutional Neural Network: \n",
            "[[287   0   1   0   0   6   1   1   2   0]\n",
            " [  0 330   0   0   0   2   0   1   0   0]\n",
            " [  1   2 269   3  11   2   2   1   1   0]\n",
            " [  0   0   7 298   0  12   0   3   3   0]\n",
            " [  1   0   1   1 295   0   1   1   2  15]\n",
            " [  3   2   1   8   2 228   5   1   5   2]\n",
            " [  2   4   7   0   3   7 275   0   0   0]\n",
            " [  1   6   5   2   4   1   0 298   1   9]\n",
            " [  1   8   4  11   4   7   2   1 230   4]\n",
            " [  2   1   2   4  18   4   0   4   1 247]]\n",
            "***********************************************************\n",
            "***********************************************************\n",
            "\n",
            "\n",
            "\n"
          ]
        }
      ]
    }
  ]
}