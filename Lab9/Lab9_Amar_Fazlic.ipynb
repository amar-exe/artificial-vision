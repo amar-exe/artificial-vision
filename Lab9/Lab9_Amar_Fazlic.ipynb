{
 "cells": [
  {
   "cell_type": "code",
   "execution_count": 1,
   "id": "5557e4c6",
   "metadata": {},
   "outputs": [
    {
     "data": {
      "text/plain": [
       "array([0, 1])"
      ]
     },
     "execution_count": 1,
     "metadata": {},
     "output_type": "execute_result"
    }
   ],
   "source": [
    "# import the necessary packages\n",
    "from sklearn.datasets import load_breast_cancer\n",
    "# load the Breast Cancer Wisconsin (BCW) dataset\n",
    "BCW_dataset = load_breast_cancer()\n",
    "# visualise some features examples\n",
    "BCW_dataset.feature_names\n",
    "BCW_dataset.data[[5,50]]\n",
    "# visualise some target examples\n",
    "BCW_dataset.target_names\n",
    "BCW_dataset.target[[5,50]]"
   ]
  },
  {
   "cell_type": "code",
   "execution_count": 2,
   "id": "ae35630d",
   "metadata": {},
   "outputs": [],
   "source": [
    "from sklearn.datasets import load_breast_cancer\n",
    "from sklearn.model_selection import train_test_split\n",
    "# load the Breast Cancer Wisconsin (BCW) dataset\n",
    "BCW_dataset = load_breast_cancer()\n",
    "#Assign the feature vectors (data) and target to separate variables\n",
    "x= BCW_dataset.data\n",
    "y= BCW_dataset.target\n",
    "#Splitting the data into training and testing sets\n",
    "(x_train, x_test,y_train, y_test) = train_test_split(x,y,random_state=3,test_size=0.20)"
   ]
  },
  {
   "cell_type": "code",
   "execution_count": 3,
   "id": "880746e8",
   "metadata": {},
   "outputs": [],
   "source": [
    "from sklearn.naive_bayes import GaussianNB\n",
    "# train the model\n",
    "GaussianNB_model = GaussianNB()\n",
    "GaussianNB_model.fit(x_train, y_train)\n",
    "# make predictions using new data (testing set)\n",
    "GaussianNB_predictions = GaussianNB_model.predict(x_test)"
   ]
  },
  {
   "cell_type": "code",
   "execution_count": 4,
   "id": "d7e025c2",
   "metadata": {},
   "outputs": [],
   "source": [
    "# import the necessary packages\n",
    "from sklearn.metrics import confusion_matrix\n",
    "from sklearn.metrics import accuracy_score\n",
    "from sklearn.metrics import precision_score\n",
    "from sklearn.metrics import recall_score\n",
    "from sklearn.metrics import f1_score\n",
    "# compute the classification confusion matrix\n",
    "tn, fp, fn, tp = confusion_matrix(y_test, GaussianNB_predictions).ravel()\n",
    "# compute the classification accuracy\n",
    "GaussianNB_accuracy = accuracy_score(y_test, GaussianNB_predictions)\n",
    "# compute the classification precision\n",
    "GaussianNB_precision = precision_score(y_test, GaussianNB_predictions)\n",
    "# compute the classification recall\n",
    "GaussianNB_recall = recall_score(y_test, GaussianNB_predictions)\n",
    "# compute the classification f1 score\n",
    "GaussianNB_f1Score = f1_score(y_test, GaussianNB_predictions)\n",
    "\n",
    "def accuracy_score(tp,tn,fp,fn):\n",
    "    return ((tp+tn)/(tp+tn+fp+fn))\n",
    "\n",
    "def precision_score(tp,fp):\n",
    "    return (tp/(tp+fp))\n",
    "\n",
    "def recall_score(tp,fn):\n",
    "    return (tp/(tp+fn))\n",
    "\n",
    "def f1_score(tp,fp,fn):\n",
    "    return (tp/(tp+0.5*(fp+fn)))"
   ]
  },
  {
   "cell_type": "code",
   "execution_count": 5,
   "id": "0b0e747c",
   "metadata": {},
   "outputs": [
    {
     "data": {
      "image/png": "[encoded data removed]",
      "text/plain": [
       "<Figure size 432x288 with 1 Axes>"
      ]
     },
     "metadata": {
      "needs_background": "light"
     },
     "output_type": "display_data"
    }
   ],
   "source": [
    "# import the necessary packages\n",
    "from sklearn.neighbors import KNeighborsClassifier\n",
    "from sklearn.metrics import accuracy_score\n",
    "import matplotlib.pyplot as plt\n",
    "#Evaluating KNeighborsClassifier from k=1 to 20\n",
    "#and record the classification accuracy\n",
    "k_range = range(1,21)\n",
    "KNeighbors_accuracy = []\n",
    "for k in k_range:\n",
    "    KNeighbors_model = KNeighborsClassifier(n_neighbors=k)\n",
    "    KNeighbors_model.fit(x_train,y_train)\n",
    "    KNeighbors_predictions=KNeighbors_model.predict(x_test)\n",
    "    KNeighbors_accuracy.append(accuracy_score(y_test,KNeighbors_predictions))\n",
    "#plot the relationship between K and the classification accuracy\n",
    "plt.plot(k_range,KNeighbors_accuracy)\n",
    "plt.xlabel('Value of K for KNN')\n",
    "plt.ylabel('Classification Accuracy')\n",
    "plt.show()"
   ]
  },
  {
   "cell_type": "code",
   "execution_count": 6,
   "id": "7439d26b",
   "metadata": {},
   "outputs": [
    {
     "data": {
      "image/png": "[encoded data removed]",
      "text/plain": [
       "<Figure size 432x288 with 1 Axes>"
      ]
     },
     "metadata": {
      "needs_background": "light"
     },
     "output_type": "display_data"
    }
   ],
   "source": [
    "# import the necessary packages\n",
    "from sklearn.svm import SVC\n",
    "from sklearn.metrics import accuracy_score\n",
    "import matplotlib.pyplot as plt\n",
    "#Evaluating SVMClassifier for c=[1,5,10,100] and record classification accuracy\n",
    "c_range = [1,5,10,100]\n",
    "SVM_accuracy = []\n",
    "for c in c_range:\n",
    "    SVM_model = SVC(C=c,kernel='linear')\n",
    "    SVM_model.fit(x_train,y_train)\n",
    "    SVM_predictions=SVM_model.predict(x_test)\n",
    "    SVM_accuracy.append(accuracy_score(y_test,SVM_predictions))\n",
    "#plot the relationship between C and the classification accuracy\n",
    "plt.scatter(c_range,SVM_accuracy)\n",
    "plt.xlabel('Value of C for SVM')\n",
    "plt.ylabel('Classification Accuracy')\n",
    "plt.show()"
   ]
  },
  {
   "cell_type": "code",
   "execution_count": 7,
   "id": "4ff4ac3d",
   "metadata": {},
   "outputs": [
    {
     "name": "stdout",
     "output_type": "stream",
     "text": [
      "Best model accuracy: 0.9646017699115044\n",
      "mean accuracy: 0.931516845210371\n",
      "std accuracy: 0.018621290927983335\n",
      "Accuracy load model: 0.9646017699115044\n"
     ]
    }
   ],
   "source": [
    "# import the necessary packages\n",
    "from sklearn.neighbors import KNeighborsClassifier\n",
    "from sklearn.naive_bayes import GaussianNB\n",
    "from sklearn.svm import SVC\n",
    "from sklearn.model_selection import StratifiedKFold\n",
    "from sklearn.metrics import accuracy_score\n",
    "import numpy as np\n",
    "import joblib # for old versions use: from sklearn.externals import joblib\n",
    "# Load BCW dataset\n",
    "BCW_dataset = load_breast_cancer()\n",
    "x= BCW_dataset.data\n",
    "y= BCW_dataset.target\n",
    "numFolds=5\n",
    "skf = StratifiedKFold(n_splits=numFolds,shuffle=True,random_state=0)\n",
    "model_folds_accuracy = []\n",
    "best_model_accuracy =0\n",
    "best_model =[]\n",
    "x_test_best_model=[]\n",
    "y_test_best_model=[]\n",
    "for train_fold_indexs, test_fold_indexs in skf.split(x, y):\n",
    "    x_train_fold = x[train_fold_indexs];\n",
    "    y_train_fold = y[train_fold_indexs];\n",
    "    x_test_fold = x[test_fold_indexs];\n",
    "    y_test_fold = y[test_fold_indexs];\n",
    "# train the model using the k fold train data\n",
    "    model = KNeighborsClassifier(n_neighbors=5)\n",
    "    model.fit(x_train_fold,y_train_fold)\n",
    "# make predictions using the k fold test data\n",
    "    predictions = model.predict(x_test_fold)\n",
    "# compute accuracy for the testing set of the k fold\n",
    "    fold_accuracy= accuracy_score(y_test_fold,predictions)\n",
    "    model_folds_accuracy.append(fold_accuracy)\n",
    "# Update the best classification model based on the accuracy\n",
    "    if fold_accuracy > best_model_accuracy:\n",
    "        best_model_accuracy = fold_accuracy\n",
    "        best_model = model\n",
    "        x_test_best_model=x_test_fold\n",
    "        y_test_best_model= y_test_fold\n",
    "# print best model accuracy and average accuracy\n",
    "model_folds_accuracy = np.array(model_folds_accuracy)\n",
    "print('Best model accuracy:', best_model_accuracy)\n",
    "print('mean accuracy:', model_folds_accuracy.mean())\n",
    "print('std accuracy:', model_folds_accuracy.std())\n",
    "#Save the best model to disk\n",
    "joblib.dump(best_model,'best_kFold_model.pkl')\n",
    "# some time later...\n",
    "# load the model from disk\n",
    "loaded_model = joblib.load('best_kFold_model.pkl')\n",
    "predictions_loaded_model = loaded_model.predict(x_test_best_model)\n",
    "accuracy_loaded_model = accuracy_score(y_test_best_model,predictions_loaded_model)\n",
    "print('Accuracy load model:', accuracy_loaded_model)"
   ]
  },
  {
   "cell_type": "code",
   "execution_count": null,
   "id": "e056fb19",
   "metadata": {},
   "outputs": [],
   "source": []
  }
 ],
 "metadata": {
  "kernelspec": {
   "display_name": "Python 3 (ipykernel)",
   "language": "python",
   "name": "python3"
  },
  "language_info": {
   "codemirror_mode": {
    "name": "ipython",
    "version": 3
   },
   "file_extension": ".py",
   "mimetype": "text/x-python",
   "name": "python",
   "nbconvert_exporter": "python",
   "pygments_lexer": "ipython3",
   "version": "3.9.7"
  }
 },
 "nbformat": 4,
 "nbformat_minor": 5
}
